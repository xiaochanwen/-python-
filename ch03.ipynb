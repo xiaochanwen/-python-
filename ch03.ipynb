{
 "cells": [
  {
   "cell_type": "markdown",
   "id": "80b9430c",
   "metadata": {},
   "source": [
    "#### 第3章 \n",
    "-----------\n",
    "## IPython：一种交互式计算和开发环境"
   ]
  },
  {
   "cell_type": "markdown",
   "id": "4d668ec0",
   "metadata": {},
   "source": [
    "本章的目的在于对IPython 有一个比较全面的了解"
   ]
  },
  {
   "cell_type": "markdown",
   "id": "ca23885e",
   "metadata": {},
   "source": [
    "----"
   ]
  },
  {
   "cell_type": "markdown",
   "id": "8bb0afff",
   "metadata": {},
   "source": [
    "## Ipython基础"
   ]
  },
  {
   "cell_type": "markdown",
   "id": "0d1bf585",
   "metadata": {},
   "source": [
    "python的可读性比较韩，和普通的print输出有比较明显的区别"
   ]
  },
  {
   "cell_type": "code",
   "execution_count": 5,
   "id": "786db820",
   "metadata": {},
   "outputs": [],
   "source": [
    "from numpy.random import randn\n",
    "data={i : randn() for i in range(7)}"
   ]
  },
  {
   "cell_type": "code",
   "execution_count": 6,
   "id": "5cfbb0a7",
   "metadata": {},
   "outputs": [
    {
     "name": "stdout",
     "output_type": "stream",
     "text": [
      "{0: 0.33260412719696736, 1: -0.4975294465102656, 2: 0.39992214412609833, 3: 1.684916178994142, 4: -0.14463226847181057, 5: 0.5840355868660406, 6: 1.1929007987777012}\n"
     ]
    }
   ],
   "source": [
    "print(data)"
   ]
  },
  {
   "cell_type": "code",
   "execution_count": 7,
   "id": "f3676003",
   "metadata": {},
   "outputs": [
    {
     "data": {
      "text/plain": [
       "{0: 0.33260412719696736,\n",
       " 1: -0.4975294465102656,\n",
       " 2: 0.39992214412609833,\n",
       " 3: 1.684916178994142,\n",
       " 4: -0.14463226847181057,\n",
       " 5: 0.5840355868660406,\n",
       " 6: 1.1929007987777012}"
      ]
     },
     "execution_count": 7,
     "metadata": {},
     "output_type": "execute_result"
    }
   ],
   "source": [
    "data"
   ]
  },
  {
   "cell_type": "markdown",
   "id": "f1c7fab2",
   "metadata": {},
   "source": [
    "从以上的data与print（data）中可以看到两者的区别\n"
   ]
  },
  {
   "cell_type": "markdown",
   "id": "ae7701a7",
   "metadata": {},
   "source": [
    "---"
   ]
  },
  {
   "cell_type": "markdown",
   "id": "6855384d",
   "metadata": {},
   "source": [
    "## Tab健自动完成"
   ]
  },
  {
   "cell_type": "markdown",
   "id": "4e6c745e",
   "metadata": {},
   "source": [
    "在shell中输入表达式时，只要按下Tab健，当前命名空间中任何与已输入的字符串相匹配的变量（对象、函数等）就会被找出来："
   ]
  },
  {
   "cell_type": "code",
   "execution_count": 8,
   "id": "3b5055a2",
   "metadata": {},
   "outputs": [],
   "source": [
    "an_apple=27\n",
    "an_exmaple =42"
   ]
  },
  {
   "cell_type": "markdown",
   "id": "5c2328f0",
   "metadata": {},
   "source": [
    "    `an【Tab】会出现已有的变量名"
   ]
  },
  {
   "cell_type": "markdown",
   "id": "1d87d1e0",
   "metadata": {},
   "source": [
    "---"
   ]
  },
  {
   "cell_type": "markdown",
   "id": "882641d7",
   "metadata": {},
   "source": [
    "## 内省"
   ]
  },
  {
   "cell_type": "markdown",
   "id": "33238e8f",
   "metadata": {},
   "source": [
    "在变量的前面或后面加上一个问号（？），可以将该对象的一些通用信息显示出来。"
   ]
  },
  {
   "cell_type": "code",
   "execution_count": 10,
   "id": "3d64a865",
   "metadata": {},
   "outputs": [],
   "source": [
    "a=[1,2,3,4,5]"
   ]
  },
  {
   "cell_type": "code",
   "execution_count": 12,
   "id": "887a25bc",
   "metadata": {},
   "outputs": [],
   "source": [
    "a?"
   ]
  },
  {
   "cell_type": "markdown",
   "id": "cae35a19",
   "metadata": {},
   "source": [
    "这叫做对象内省（object introspection）"
   ]
  },
  {
   "cell_type": "code",
   "execution_count": 15,
   "id": "ae7855fa",
   "metadata": {},
   "outputs": [],
   "source": [
    "def add_numbers(a,b):\n",
    "    \"\"\"This is a def\"\"\"\n",
    "    return a+b"
   ]
  },
  {
   "cell_type": "code",
   "execution_count": 16,
   "id": "58d80dbd",
   "metadata": {},
   "outputs": [],
   "source": [
    "add_numbers?"
   ]
  },
  {
   "cell_type": "markdown",
   "id": "754f8d0e",
   "metadata": {},
   "source": [
    "函数的Docstring会被显示出来"
   ]
  },
  {
   "cell_type": "code",
   "execution_count": 17,
   "id": "af281c96",
   "metadata": {},
   "outputs": [],
   "source": [
    "add_numbers??"
   ]
  },
  {
   "cell_type": "markdown",
   "id": "8d7cf0b1",
   "metadata": {},
   "source": [
    "??会显示出源代码"
   ]
  },
  {
   "cell_type": "markdown",
   "id": "a742c082",
   "metadata": {},
   "source": [
    "----"
   ]
  },
  {
   "cell_type": "markdown",
   "id": "7fcd8c76",
   "metadata": {},
   "source": [
    "## %run命令"
   ]
  },
  {
   "cell_type": "markdown",
   "id": "ecf01107",
   "metadata": {},
   "source": [
    "在IPython 会话环境中，所有文件都可以通过%run命令当作Python程序来运行。"
   ]
  },
  {
   "cell_type": "markdown",
   "id": "e702f0d6",
   "metadata": {},
   "source": [
    "---"
   ]
  },
  {
   "cell_type": "markdown",
   "id": "3380e422",
   "metadata": {},
   "source": [
    "## 中断正在执行的代码"
   ]
  },
  {
   "cell_type": "raw",
   "id": "e910b84f",
   "metadata": {},
   "source": [
    "ctrl+c"
   ]
  },
  {
   "cell_type": "markdown",
   "id": "f9b64aaa",
   "metadata": {},
   "source": [
    "-----"
   ]
  },
  {
   "cell_type": "markdown",
   "id": "f252a4b2",
   "metadata": {},
   "source": [
    "## 执行剪贴板的代码"
   ]
  },
  {
   "cell_type": "markdown",
   "id": "8899cb87",
   "metadata": {},
   "source": [
    "%paste "
   ]
  },
  {
   "cell_type": "markdown",
   "id": "b06da93b",
   "metadata": {},
   "source": [
    "## 键盘快捷键\n",
    "## 异常与跟踪"
   ]
  },
  {
   "cell_type": "markdown",
   "id": "fe0df191",
   "metadata": {},
   "source": [
    "## 魔术命令"
   ]
  },
  {
   "cell_type": "markdown",
   "id": "33ae4bdb",
   "metadata": {},
   "source": [
    "魔术命令是以百分号%为前缀的命令。例如，可以用%timeit来检测任意python语句的执行时间"
   ]
  },
  {
   "cell_type": "code",
   "execution_count": 25,
   "id": "31186cf8",
   "metadata": {},
   "outputs": [],
   "source": [
    "import numpy as np\n",
    "a=np.random.randn(100,100)"
   ]
  },
  {
   "cell_type": "code",
   "execution_count": 27,
   "id": "aa07c8f9",
   "metadata": {},
   "outputs": [
    {
     "name": "stdout",
     "output_type": "stream",
     "text": [
      "66.5 µs ± 1.2 µs per loop (mean ± std. dev. of 7 runs, 10000 loops each)\n"
     ]
    }
   ],
   "source": [
    "%timeit np.dot(a,a)"
   ]
  },
  {
   "cell_type": "code",
   "execution_count": 28,
   "id": "daa0aa4f",
   "metadata": {},
   "outputs": [],
   "source": [
    "%reset?"
   ]
  },
  {
   "cell_type": "markdown",
   "id": "aea1a48f",
   "metadata": {},
   "source": [
    "常用的魔术命令 P59"
   ]
  }
 ],
 "metadata": {
  "kernelspec": {
   "display_name": "Python 3",
   "language": "python",
   "name": "python3"
  },
  "language_info": {
   "codemirror_mode": {
    "name": "ipython",
    "version": 3
   },
   "file_extension": ".py",
   "mimetype": "text/x-python",
   "name": "python",
   "nbconvert_exporter": "python",
   "pygments_lexer": "ipython3",
   "version": "3.9.2"
  }
 },
 "nbformat": 4,
 "nbformat_minor": 5
}
