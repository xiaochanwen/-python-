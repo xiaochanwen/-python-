{
 "cells": [
  {
   "cell_type": "markdown",
   "id": "7bd3e2e9",
   "metadata": {},
   "source": [
    "第4章"
   ]
  },
  {
   "cell_type": "markdown",
   "id": "4a02f7dd",
   "metadata": {},
   "source": [
    "# NumPy基础：数组和矢量计算"
   ]
  },
  {
   "cell_type": "markdown",
   "id": "16ca62f3",
   "metadata": {},
   "source": [
    "NumPy的部分功能如下："
   ]
  },
  {
   "cell_type": "markdown",
   "id": "e5131663",
   "metadata": {},
   "source": [
    "    ·nadarray，一个具有矢量算术运算和复杂广播能力的快速且节省空间的多维数组\n",
    "\n",
    "    ·用于对整组数据进行快速运算的标准数学函数（无需编写循环）\n",
    "\n",
    "    ·用于读写磁盘数据的工具以及用于操作内存映射文件的工具\n",
    "\n",
    "    ·线性代数、随机数生成以及傅里叶变换功能\n",
    "\n",
    "    ·用于集成由C、C++、Fortran等语言编写的代码的工具"
   ]
  },
  {
   "cell_type": "markdown",
   "id": "87d4d45f",
   "metadata": {},
   "source": [
    "对于大部分数据分析应用而言，最主要的功能主要集中在："
   ]
  },
  {
   "cell_type": "markdown",
   "id": "94e8f7f3",
   "metadata": {},
   "source": [
    "    ·用于数据整理和清理、子集构造和过滤、转换等快速的矢量化数组运算。\n",
    "\n",
    "    ·常用的数组算法，如排序、唯一化、集合运算等。\n",
    "    \n",
    "    ·高效的描述统计和数据聚合/摘要运算。\n",
    "    \n",
    "    ·用于异构数据集的合并/连接运算的数据对弃和关系型数据运算。\n",
    "    \n",
    "    ·将条件逻辑表述为数组表达式（而不是带有if-elif-els分支的循环）\n",
    "    \n",
    "    ·数据的分组运算（聚合、转换、函数应用等）第五章进行详细讲解。\n",
    "    "
   ]
  },
  {
   "cell_type": "markdown",
   "id": "24ee8e40",
   "metadata": {},
   "source": [
    "----"
   ]
  },
  {
   "cell_type": "markdown",
   "id": "17290b35",
   "metadata": {},
   "source": [
    "## NumPy的ndarray：一种多维数组对象"
   ]
  },
  {
   "cell_type": "markdown",
   "id": "4d4b0def",
   "metadata": {},
   "source": [
    "NumPy最重要的一个特点就是其N维数组对象（即ndarray），该对象是一个快速而灵活的大数据集容器。可以利用这种数组对整块数据执行一些数学运算，其语法跟标量元素之间的运算一样"
   ]
  },
  {
   "cell_type": "code",
   "execution_count": 168,
   "id": "9b8cd7ad",
   "metadata": {},
   "outputs": [],
   "source": [
    "import numpy as np"
   ]
  },
  {
   "cell_type": "markdown",
   "id": "5cdf6db9",
   "metadata": {},
   "source": [
    "ndarray是一个通用的同构数据多维容器，也就是，其中所有元素都必须是相同类型的。每一个数组都有一个shape（一个表示各纬度大小的元组）和一个dtype（一个用于说明数组数据类型的对象）："
   ]
  },
  {
   "cell_type": "markdown",
   "id": "fb4b5dad",
   "metadata": {},
   "source": [
    "data.shape 与 data.dtype"
   ]
  },
  {
   "cell_type": "markdown",
   "id": "59a7c541",
   "metadata": {},
   "source": [
    "-----"
   ]
  },
  {
   "cell_type": "markdown",
   "id": "245abe05",
   "metadata": {},
   "source": [
    "### 创建ndarry"
   ]
  },
  {
   "cell_type": "markdown",
   "id": "8f3977d8",
   "metadata": {},
   "source": [
    "创建数组最简单的办法就是使用array函数，它接受一切序列型的对象（包括其他数组），然后产生一个新的含有传入数据的NumPy数组。以一个列表的转换为例"
   ]
  },
  {
   "cell_type": "code",
   "execution_count": 3,
   "id": "551d3950",
   "metadata": {},
   "outputs": [],
   "source": [
    "import numpy as np"
   ]
  },
  {
   "cell_type": "code",
   "execution_count": 4,
   "id": "e9326197",
   "metadata": {},
   "outputs": [],
   "source": [
    "data1 = [6,7.5,8,0,1]"
   ]
  },
  {
   "cell_type": "code",
   "execution_count": 5,
   "id": "7bbec3c8",
   "metadata": {},
   "outputs": [],
   "source": [
    "arr1 = np.array(data1)"
   ]
  },
  {
   "cell_type": "code",
   "execution_count": 6,
   "id": "2d6c5f1f",
   "metadata": {},
   "outputs": [
    {
     "data": {
      "text/plain": [
       "array([6. , 7.5, 8. , 0. , 1. ])"
      ]
     },
     "execution_count": 6,
     "metadata": {},
     "output_type": "execute_result"
    }
   ],
   "source": [
    "arr1"
   ]
  },
  {
   "cell_type": "markdown",
   "id": "c9905f0d",
   "metadata": {},
   "source": [
    "嵌套序列（比如由一组等长列表组成的列表）将会被转换成一个多维数组："
   ]
  },
  {
   "cell_type": "code",
   "execution_count": 7,
   "id": "ab2cb10c",
   "metadata": {},
   "outputs": [],
   "source": [
    "data2 = [[1,2,3,4],[5,6,7,8]]"
   ]
  },
  {
   "cell_type": "code",
   "execution_count": 8,
   "id": "387b5312",
   "metadata": {},
   "outputs": [],
   "source": [
    "arr2 = np.array(data2)"
   ]
  },
  {
   "cell_type": "code",
   "execution_count": 9,
   "id": "864451c6",
   "metadata": {},
   "outputs": [
    {
     "data": {
      "text/plain": [
       "array([[1, 2, 3, 4],\n",
       "       [5, 6, 7, 8]])"
      ]
     },
     "execution_count": 9,
     "metadata": {},
     "output_type": "execute_result"
    }
   ],
   "source": [
    "arr2"
   ]
  },
  {
   "cell_type": "code",
   "execution_count": 10,
   "id": "67d4e7b9",
   "metadata": {},
   "outputs": [
    {
     "data": {
      "text/plain": [
       "2"
      ]
     },
     "execution_count": 10,
     "metadata": {},
     "output_type": "execute_result"
    }
   ],
   "source": [
    "arr2.ndim"
   ]
  },
  {
   "cell_type": "code",
   "execution_count": 11,
   "id": "19f828ad",
   "metadata": {},
   "outputs": [
    {
     "data": {
      "text/plain": [
       "(2, 4)"
      ]
     },
     "execution_count": 11,
     "metadata": {},
     "output_type": "execute_result"
    }
   ],
   "source": [
    "arr2.shape"
   ]
  },
  {
   "cell_type": "code",
   "execution_count": 14,
   "id": "5d70da24",
   "metadata": {},
   "outputs": [
    {
     "data": {
      "text/plain": [
       "dtype('float64')"
      ]
     },
     "execution_count": 14,
     "metadata": {},
     "output_type": "execute_result"
    }
   ],
   "source": [
    "arr2.dtype\n",
    "arr1.dtype"
   ]
  },
  {
   "cell_type": "markdown",
   "id": "3ef350fe",
   "metadata": {},
   "source": [
    "注：除非显式说明，np.array会尝试为新建的这一个数组推断出一个较为合适的数据类型，如存储在上面的dtype对象中。"
   ]
  },
  {
   "cell_type": "markdown",
   "id": "c7ff60f5",
   "metadata": {},
   "source": [
    "除了np.array外，还有一些函数可以新建组。比如zeros和ones分别可以创建指定长度或形状的全0或全1数组。empty可以创建一个没有任何具体值的数组。"
   ]
  },
  {
   "cell_type": "code",
   "execution_count": 16,
   "id": "c0b696a3",
   "metadata": {},
   "outputs": [
    {
     "data": {
      "text/plain": [
       "array([0., 0., 0., 0., 0., 0., 0., 0., 0., 0.])"
      ]
     },
     "execution_count": 16,
     "metadata": {},
     "output_type": "execute_result"
    }
   ],
   "source": [
    "np.zeros(10)"
   ]
  },
  {
   "cell_type": "code",
   "execution_count": 18,
   "id": "ecd2af46",
   "metadata": {},
   "outputs": [
    {
     "data": {
      "text/plain": [
       "array([[0., 0., 0., 0., 0., 0.],\n",
       "       [0., 0., 0., 0., 0., 0.],\n",
       "       [0., 0., 0., 0., 0., 0.]])"
      ]
     },
     "execution_count": 18,
     "metadata": {},
     "output_type": "execute_result"
    }
   ],
   "source": [
    "np.zeros((3,6))"
   ]
  },
  {
   "cell_type": "code",
   "execution_count": 19,
   "id": "b6c9c65a",
   "metadata": {},
   "outputs": [
    {
     "data": {
      "text/plain": [
       "array([[[4.67296746e-307, 1.69121096e-306, 7.56595733e-307,\n",
       "         1.42413555e-306],\n",
       "        [1.78019082e-306, 1.37959740e-306, 6.23057349e-307,\n",
       "         1.02360935e-306],\n",
       "        [1.69120416e-306, 1.78022342e-306, 6.23058028e-307,\n",
       "         1.06811422e-306]],\n",
       "\n",
       "       [[1.39071445e-307, 8.01097889e-307, 1.78020169e-306,\n",
       "         7.56601165e-307],\n",
       "        [1.02359984e-306, 1.15710088e-306, 6.23056330e-307,\n",
       "         9.34600284e-307],\n",
       "        [8.45602762e-307, 1.11260619e-306, 1.60219035e-306,\n",
       "         2.56765117e-312]]])"
      ]
     },
     "execution_count": 19,
     "metadata": {},
     "output_type": "execute_result"
    }
   ],
   "source": [
    "np.empty((2,3,4))"
   ]
  },
  {
   "cell_type": "markdown",
   "id": "40e05b5c",
   "metadata": {},
   "source": [
    "empty 返回的都是未初始化的垃圾值\n",
    "\n",
    "arrange是Python内置函数range的数组版:"
   ]
  },
  {
   "cell_type": "code",
   "execution_count": 20,
   "id": "40cb6d6d",
   "metadata": {},
   "outputs": [
    {
     "data": {
      "text/plain": [
       "array([ 0,  1,  2,  3,  4,  5,  6,  7,  8,  9, 10, 11, 12, 13, 14])"
      ]
     },
     "execution_count": 20,
     "metadata": {},
     "output_type": "execute_result"
    }
   ],
   "source": [
    "np.arange(15)"
   ]
  },
  {
   "cell_type": "markdown",
   "id": "2928d9e2",
   "metadata": {},
   "source": [
    "----"
   ]
  },
  {
   "cell_type": "markdown",
   "id": "f753fd88",
   "metadata": {},
   "source": [
    "### ndarry的数据类型"
   ]
  },
  {
   "cell_type": "markdown",
   "id": "8d11636e",
   "metadata": {},
   "source": [
    "dtype（数据类型）是一个特殊的对象，它含有ndarray将一块内存解释为特定数据类型所需要的信息："
   ]
  },
  {
   "cell_type": "code",
   "execution_count": 22,
   "id": "8ad7bc31",
   "metadata": {},
   "outputs": [],
   "source": [
    "arr1 = np.array([(1,2,3)],dtype = np.float64)"
   ]
  },
  {
   "cell_type": "code",
   "execution_count": 23,
   "id": "38d2d226",
   "metadata": {},
   "outputs": [],
   "source": [
    "arr2 = np.array([1,2,3],dtype=np.int32)"
   ]
  },
  {
   "cell_type": "code",
   "execution_count": 24,
   "id": "3bf3b994",
   "metadata": {},
   "outputs": [
    {
     "data": {
      "text/plain": [
       "dtype('float64')"
      ]
     },
     "execution_count": 24,
     "metadata": {},
     "output_type": "execute_result"
    }
   ],
   "source": [
    "arr1.dtype"
   ]
  },
  {
   "cell_type": "code",
   "execution_count": 25,
   "id": "ee390e82",
   "metadata": {},
   "outputs": [
    {
     "data": {
      "text/plain": [
       "dtype('int32')"
      ]
     },
     "execution_count": 25,
     "metadata": {},
     "output_type": "execute_result"
    }
   ],
   "source": [
    "arr2.dtype"
   ]
  },
  {
   "cell_type": "markdown",
   "id": "9acd885a",
   "metadata": {},
   "source": [
    "#### dtype是NumPy如此强大和灵活的原因之一。多数情况下，它们直接映射到相应的机器表示，这使得“读写磁盘上的二进制数据流”以及“集成低级语言代码”（如C、Fortran）等工作变得简单。数值型dtype的命名方式相同：一个类型名（如float或int），后面跟一个用于表示各元素位长的数字。标准的双精度浮点值（即Python中的float对象）需要占用8字节（64位），因此表示为float64"
   ]
  },
  {
   "cell_type": "markdown",
   "id": "f626e257",
   "metadata": {},
   "source": [
    "可以通过ndarray的astype方法显式地转换其dtype："
   ]
  },
  {
   "cell_type": "markdown",
   "id": "7e898356",
   "metadata": {},
   "source": [
    "例子一：将整数转换为浮点数"
   ]
  },
  {
   "cell_type": "code",
   "execution_count": 26,
   "id": "378c9f0f",
   "metadata": {},
   "outputs": [],
   "source": [
    "arr = np.array([1,2,3,4,5]\n",
    "            )"
   ]
  },
  {
   "cell_type": "code",
   "execution_count": 28,
   "id": "f0f1412a",
   "metadata": {},
   "outputs": [
    {
     "data": {
      "text/plain": [
       "dtype('int32')"
      ]
     },
     "execution_count": 28,
     "metadata": {},
     "output_type": "execute_result"
    }
   ],
   "source": [
    "arr.dtype"
   ]
  },
  {
   "cell_type": "code",
   "execution_count": 29,
   "id": "84a3e06b",
   "metadata": {},
   "outputs": [],
   "source": [
    "float_arr = arr.astype(np.float64)"
   ]
  },
  {
   "cell_type": "code",
   "execution_count": 31,
   "id": "6df42ac3",
   "metadata": {},
   "outputs": [
    {
     "data": {
      "text/plain": [
       "dtype('float64')"
      ]
     },
     "execution_count": 31,
     "metadata": {},
     "output_type": "execute_result"
    }
   ],
   "source": [
    "float_arr.dtype"
   ]
  },
  {
   "cell_type": "code",
   "execution_count": 32,
   "id": "92ed5354",
   "metadata": {},
   "outputs": [
    {
     "data": {
      "text/plain": [
       "array([1., 2., 3., 4., 5.])"
      ]
     },
     "execution_count": 32,
     "metadata": {},
     "output_type": "execute_result"
    }
   ],
   "source": [
    "float_arr"
   ]
  },
  {
   "cell_type": "markdown",
   "id": "ac6a4c76",
   "metadata": {},
   "source": [
    "例子二：将浮点数转换成整数"
   ]
  },
  {
   "cell_type": "code",
   "execution_count": 52,
   "id": "007cc462",
   "metadata": {},
   "outputs": [],
   "source": [
    "arr = np.array([3.7,-1.2,-2.6,0.5,12.9,10.1])"
   ]
  },
  {
   "cell_type": "code",
   "execution_count": 53,
   "id": "f03a01f9",
   "metadata": {},
   "outputs": [
    {
     "data": {
      "text/plain": [
       "array([ 3.7, -1.2, -2.6,  0.5, 12.9, 10.1])"
      ]
     },
     "execution_count": 53,
     "metadata": {},
     "output_type": "execute_result"
    }
   ],
   "source": [
    "arr"
   ]
  },
  {
   "cell_type": "code",
   "execution_count": 54,
   "id": "94e3a0d1",
   "metadata": {},
   "outputs": [
    {
     "data": {
      "text/plain": [
       "array([ 3, -1, -2,  0, 12, 10])"
      ]
     },
     "execution_count": 54,
     "metadata": {},
     "output_type": "execute_result"
    }
   ],
   "source": [
    "arr.astype(np.int32)"
   ]
  },
  {
   "cell_type": "code",
   "execution_count": 55,
   "id": "eb17852a",
   "metadata": {},
   "outputs": [
    {
     "data": {
      "text/plain": [
       "dtype('int32')"
      ]
     },
     "execution_count": 55,
     "metadata": {},
     "output_type": "execute_result"
    }
   ],
   "source": [
    "arr.astype(np.int32).dtype "
   ]
  },
  {
   "cell_type": "code",
   "execution_count": 56,
   "id": "2801ba16",
   "metadata": {},
   "outputs": [
    {
     "data": {
      "text/plain": [
       "array([ 3.7, -1.2, -2.6,  0.5, 12.9, 10.1])"
      ]
     },
     "execution_count": 56,
     "metadata": {},
     "output_type": "execute_result"
    }
   ],
   "source": [
    "arr #并没有在存储方式上改变"
   ]
  },
  {
   "cell_type": "code",
   "execution_count": 64,
   "id": "2d906077",
   "metadata": {},
   "outputs": [],
   "source": [
    "arr3 = np.array([3.7,-1.2,-2.6,0.5,12.9,10.1],dtype=np.int32)"
   ]
  },
  {
   "cell_type": "code",
   "execution_count": 65,
   "id": "e066b9dc",
   "metadata": {},
   "outputs": [
    {
     "data": {
      "text/plain": [
       "array([ 3, -1, -2,  0, 12, 10])"
      ]
     },
     "execution_count": 65,
     "metadata": {},
     "output_type": "execute_result"
    }
   ],
   "source": [
    "arr3"
   ]
  },
  {
   "cell_type": "markdown",
   "id": "b96a6c3a",
   "metadata": {},
   "source": [
    "#### 如果某字符串数组表示的全是数字，也可以用astype将其转换成数值形式："
   ]
  },
  {
   "cell_type": "code",
   "execution_count": 80,
   "id": "f257562f",
   "metadata": {},
   "outputs": [],
   "source": [
    "numberic_strings = np.array(['1.25','-9.6','42'],dtype=np.string_)"
   ]
  },
  {
   "cell_type": "code",
   "execution_count": 86,
   "id": "12f2205f",
   "metadata": {},
   "outputs": [],
   "source": [
    "a=numberic_strings.astype(float)"
   ]
  },
  {
   "cell_type": "code",
   "execution_count": 85,
   "id": "ec42d6b1",
   "metadata": {},
   "outputs": [
    {
     "data": {
      "text/plain": [
       "array([ 1, -9, 42])"
      ]
     },
     "execution_count": 85,
     "metadata": {},
     "output_type": "execute_result"
    }
   ],
   "source": [
    "a.astype(int)"
   ]
  },
  {
   "cell_type": "markdown",
   "id": "9e58d485",
   "metadata": {},
   "source": [
    "numberic_strings.astype(int)\n",
    "#报错原因，某一个值无法转换成int值"
   ]
  },
  {
   "cell_type": "markdown",
   "id": "9b5b9f14",
   "metadata": {},
   "source": [
    "    数组的dtype还有另外一个用法："
   ]
  },
  {
   "cell_type": "code",
   "execution_count": 91,
   "id": "fc8af087",
   "metadata": {},
   "outputs": [],
   "source": [
    "int_array = np.arange(10)"
   ]
  },
  {
   "cell_type": "code",
   "execution_count": 93,
   "id": "275426ee",
   "metadata": {},
   "outputs": [],
   "source": [
    "calibers = np.array([.22,.270,.357,.380,.44,.50],dtype = np.float64)"
   ]
  },
  {
   "cell_type": "code",
   "execution_count": 94,
   "id": "1e47b12d",
   "metadata": {},
   "outputs": [
    {
     "data": {
      "text/plain": [
       "array([0, 1, 2, 3, 4, 5, 6, 7, 8, 9])"
      ]
     },
     "execution_count": 94,
     "metadata": {},
     "output_type": "execute_result"
    }
   ],
   "source": [
    "int_array"
   ]
  },
  {
   "cell_type": "code",
   "execution_count": 95,
   "id": "e687476a",
   "metadata": {},
   "outputs": [
    {
     "data": {
      "text/plain": [
       "array([0.22 , 0.27 , 0.357, 0.38 , 0.44 , 0.5  ])"
      ]
     },
     "execution_count": 95,
     "metadata": {},
     "output_type": "execute_result"
    }
   ],
   "source": [
    "calibers"
   ]
  },
  {
   "cell_type": "code",
   "execution_count": 96,
   "id": "7be2a4ce",
   "metadata": {},
   "outputs": [
    {
     "data": {
      "text/plain": [
       "array([0., 1., 2., 3., 4., 5., 6., 7., 8., 9.])"
      ]
     },
     "execution_count": 96,
     "metadata": {},
     "output_type": "execute_result"
    }
   ],
   "source": [
    "int_array.astype(calibers.dtype)"
   ]
  },
  {
   "cell_type": "markdown",
   "id": "4a1818e4",
   "metadata": {},
   "source": [
    "以数组B的数据类型（B.dtype)来转换数组A的数据类型 "
   ]
  },
  {
   "cell_type": "markdown",
   "id": "c35e0692",
   "metadata": {},
   "source": [
    "------"
   ]
  },
  {
   "cell_type": "markdown",
   "id": "de6de0b3",
   "metadata": {},
   "source": [
    "### 数组和标量之间的运算"
   ]
  },
  {
   "cell_type": "markdown",
   "id": "aba890b5",
   "metadata": {},
   "source": [
    "数组很重要，因为它使我们不用编写循环即可以对数据执行批量运算。这通常叫做矢量化（vectorization）。大小相等的数组之间的任何算数运算都会将运算应用到元素级："
   ]
  },
  {
   "cell_type": "code",
   "execution_count": 101,
   "id": "e733dbc5",
   "metadata": {},
   "outputs": [],
   "source": [
    "arr = np.array([[1.,2.,3.],[4.,5.,6.]])"
   ]
  },
  {
   "cell_type": "code",
   "execution_count": 102,
   "id": "0d14f3e9",
   "metadata": {},
   "outputs": [
    {
     "data": {
      "text/plain": [
       "array([[1., 2., 3.],\n",
       "       [4., 5., 6.]])"
      ]
     },
     "execution_count": 102,
     "metadata": {},
     "output_type": "execute_result"
    }
   ],
   "source": [
    "arr"
   ]
  },
  {
   "cell_type": "code",
   "execution_count": 103,
   "id": "73de8d4c",
   "metadata": {},
   "outputs": [
    {
     "data": {
      "text/plain": [
       "array([[ 1.,  4.,  9.],\n",
       "       [16., 25., 36.]])"
      ]
     },
     "execution_count": 103,
     "metadata": {},
     "output_type": "execute_result"
    }
   ],
   "source": [
    "arr*arr"
   ]
  },
  {
   "cell_type": "code",
   "execution_count": 104,
   "id": "88d03887",
   "metadata": {},
   "outputs": [
    {
     "data": {
      "text/plain": [
       "array([[1.        , 1.41421356, 1.73205081],\n",
       "       [2.        , 2.23606798, 2.44948974]])"
      ]
     },
     "execution_count": 104,
     "metadata": {},
     "output_type": "execute_result"
    }
   ],
   "source": [
    "arr**0.5"
   ]
  },
  {
   "cell_type": "code",
   "execution_count": 105,
   "id": "435ebe5e",
   "metadata": {},
   "outputs": [
    {
     "data": {
      "text/plain": [
       "array([[1.        , 0.5       , 0.33333333],\n",
       "       [0.25      , 0.2       , 0.16666667]])"
      ]
     },
     "execution_count": 105,
     "metadata": {},
     "output_type": "execute_result"
    }
   ],
   "source": [
    "1/arr"
   ]
  },
  {
   "cell_type": "markdown",
   "id": "77a0d210",
   "metadata": {},
   "source": [
    "#### 不同数组之间的运算叫做广播（broadcasting）第12章会讲到"
   ]
  },
  {
   "cell_type": "markdown",
   "id": "c304b5f1",
   "metadata": {},
   "source": [
    "-----"
   ]
  },
  {
   "cell_type": "markdown",
   "id": "34628e37",
   "metadata": {},
   "source": [
    "### 基本的索引与切片"
   ]
  },
  {
   "cell_type": "markdown",
   "id": "7a0b371e",
   "metadata": {},
   "source": [
    "第一，一维数组\n",
    "    \n",
    "    Numpy数组的索引是一个内容丰富的主题，因为选取数据子集或单个元素的方式有很多。一维数组很简单。从表面看，它们跟python列表功能差不多"
   ]
  },
  {
   "cell_type": "code",
   "execution_count": 111,
   "id": "2f54d721",
   "metadata": {},
   "outputs": [],
   "source": [
    "arr = np.arange(1,10)"
   ]
  },
  {
   "cell_type": "code",
   "execution_count": 112,
   "id": "646b5ab7",
   "metadata": {},
   "outputs": [
    {
     "data": {
      "text/plain": [
       "array([1, 2, 3, 4, 5, 6, 7, 8, 9])"
      ]
     },
     "execution_count": 112,
     "metadata": {},
     "output_type": "execute_result"
    }
   ],
   "source": [
    "arr"
   ]
  },
  {
   "cell_type": "code",
   "execution_count": 113,
   "id": "3318b7bd",
   "metadata": {},
   "outputs": [
    {
     "data": {
      "text/plain": [
       "7"
      ]
     },
     "execution_count": 113,
     "metadata": {},
     "output_type": "execute_result"
    }
   ],
   "source": [
    "arr[6]"
   ]
  },
  {
   "cell_type": "code",
   "execution_count": 114,
   "id": "3efa8086",
   "metadata": {},
   "outputs": [
    {
     "data": {
      "text/plain": [
       "array([6, 7, 8])"
      ]
     },
     "execution_count": 114,
     "metadata": {},
     "output_type": "execute_result"
    }
   ],
   "source": [
    "arr[5:8]"
   ]
  },
  {
   "cell_type": "code",
   "execution_count": 115,
   "id": "5a3baf98",
   "metadata": {},
   "outputs": [],
   "source": [
    "arr[5:8] =12"
   ]
  },
  {
   "cell_type": "code",
   "execution_count": 116,
   "id": "552cdc9e",
   "metadata": {},
   "outputs": [
    {
     "data": {
      "text/plain": [
       "array([ 1,  2,  3,  4,  5, 12, 12, 12,  9])"
      ]
     },
     "execution_count": 116,
     "metadata": {},
     "output_type": "execute_result"
    }
   ],
   "source": [
    "arr"
   ]
  },
  {
   "cell_type": "markdown",
   "id": "1adf04d3",
   "metadata": {},
   "source": [
    "当一个标量值赋给一个切片时（arr【5：8】=12），该值会自动广播到整个选区。跟列表最重要的区别在于，数组切片是原始数组的视图。这意味着数据不会被复制，视图上的任何修改都会直接反映到源数组上。"
   ]
  },
  {
   "cell_type": "code",
   "execution_count": 118,
   "id": "89221150",
   "metadata": {},
   "outputs": [],
   "source": [
    "arr_slice = arr[5:8]"
   ]
  },
  {
   "cell_type": "code",
   "execution_count": 119,
   "id": "36e5c9c5",
   "metadata": {},
   "outputs": [],
   "source": [
    "arr_slice[1]= 12345"
   ]
  },
  {
   "cell_type": "code",
   "execution_count": 120,
   "id": "a9ce9828",
   "metadata": {},
   "outputs": [
    {
     "data": {
      "text/plain": [
       "array([    1,     2,     3,     4,     5,    12, 12345,    12,     9])"
      ]
     },
     "execution_count": 120,
     "metadata": {},
     "output_type": "execute_result"
    }
   ],
   "source": [
    "arr"
   ]
  },
  {
   "cell_type": "code",
   "execution_count": 121,
   "id": "8d07f2a6",
   "metadata": {},
   "outputs": [],
   "source": [
    "arr_slice[:]=64"
   ]
  },
  {
   "cell_type": "code",
   "execution_count": 122,
   "id": "b673a5cf",
   "metadata": {},
   "outputs": [
    {
     "data": {
      "text/plain": [
       "array([ 1,  2,  3,  4,  5, 64, 64, 64,  9])"
      ]
     },
     "execution_count": 122,
     "metadata": {},
     "output_type": "execute_result"
    }
   ],
   "source": [
    "arr"
   ]
  },
  {
   "cell_type": "markdown",
   "id": "54f2f3d4",
   "metadata": {},
   "source": [
    "#### 注，如果想要得到的是ndarray切片的一份副本而非视图，就需要显式地进行复制操作，如使用copy（）函数，例如arr[5:8].copy（）"
   ]
  },
  {
   "cell_type": "code",
   "execution_count": 125,
   "id": "c84f9cc5",
   "metadata": {},
   "outputs": [],
   "source": [
    "arr_copy=arr[5:8].copy()"
   ]
  },
  {
   "cell_type": "code",
   "execution_count": 126,
   "id": "f0c4dbff",
   "metadata": {},
   "outputs": [],
   "source": [
    "arr_copy[2]=35"
   ]
  },
  {
   "cell_type": "code",
   "execution_count": 127,
   "id": "f41883ba",
   "metadata": {},
   "outputs": [
    {
     "data": {
      "text/plain": [
       "array([ 1,  2,  3,  4,  5, 64, 64, 64,  9])"
      ]
     },
     "execution_count": 127,
     "metadata": {},
     "output_type": "execute_result"
    }
   ],
   "source": [
    "arr"
   ]
  },
  {
   "cell_type": "code",
   "execution_count": 128,
   "id": "e241cee6",
   "metadata": {},
   "outputs": [
    {
     "data": {
      "text/plain": [
       "array([64, 64, 35])"
      ]
     },
     "execution_count": 128,
     "metadata": {},
     "output_type": "execute_result"
    }
   ],
   "source": [
    "arr_copy"
   ]
  },
  {
   "cell_type": "markdown",
   "id": "0b2bbc0f",
   "metadata": {},
   "source": [
    " 第二，高维数组，如二维数组\n",
    "     \n",
    "     各索引位置上的元素不再是标量而是一维数组："
   ]
  },
  {
   "cell_type": "code",
   "execution_count": 130,
   "id": "6cd78054",
   "metadata": {},
   "outputs": [],
   "source": [
    "arr2d = np.array([[1,2,3],[4,5,6],[7,8,9]])"
   ]
  },
  {
   "cell_type": "code",
   "execution_count": 131,
   "id": "cb998524",
   "metadata": {},
   "outputs": [
    {
     "data": {
      "text/plain": [
       "array([7, 8, 9])"
      ]
     },
     "execution_count": 131,
     "metadata": {},
     "output_type": "execute_result"
    }
   ],
   "source": [
    "arr2d[2]"
   ]
  },
  {
   "cell_type": "code",
   "execution_count": 133,
   "id": "a24adb10",
   "metadata": {},
   "outputs": [
    {
     "data": {
      "text/plain": [
       "7"
      ]
     },
     "execution_count": 133,
     "metadata": {},
     "output_type": "execute_result"
    }
   ],
   "source": [
    "arr2d[2][0]"
   ]
  },
  {
   "cell_type": "code",
   "execution_count": 134,
   "id": "8cfc3f3f",
   "metadata": {},
   "outputs": [
    {
     "data": {
      "text/plain": [
       "7"
      ]
     },
     "execution_count": 134,
     "metadata": {},
     "output_type": "execute_result"
    }
   ],
   "source": [
    "arr2d[2,0]"
   ]
  },
  {
   "cell_type": "markdown",
   "id": "7ac581ed",
   "metadata": {},
   "source": [
    "在多维数组中，如果省略了后面的索引，则返回对象会是一个维度低一点的ndarray（它含有高一级维度上的所有数据）"
   ]
  },
  {
   "cell_type": "code",
   "execution_count": 146,
   "id": "bc7d02bf",
   "metadata": {},
   "outputs": [],
   "source": [
    "arr3d = np.array([[[1,2,3],[4,5,6]],[[7,8,9],[10,11,12]]])"
   ]
  },
  {
   "cell_type": "code",
   "execution_count": 147,
   "id": "7d93ec8f",
   "metadata": {},
   "outputs": [
    {
     "data": {
      "text/plain": [
       "array([[[ 1,  2,  3],\n",
       "        [ 4,  5,  6]],\n",
       "\n",
       "       [[ 7,  8,  9],\n",
       "        [10, 11, 12]]])"
      ]
     },
     "execution_count": 147,
     "metadata": {},
     "output_type": "execute_result"
    }
   ],
   "source": [
    "arr3d"
   ]
  },
  {
   "cell_type": "code",
   "execution_count": 148,
   "id": "7b31dfbc",
   "metadata": {},
   "outputs": [
    {
     "data": {
      "text/plain": [
       "array([[1, 2, 3],\n",
       "       [4, 5, 6]])"
      ]
     },
     "execution_count": 148,
     "metadata": {},
     "output_type": "execute_result"
    }
   ],
   "source": [
    "arr3d[0]"
   ]
  },
  {
   "cell_type": "code",
   "execution_count": 149,
   "id": "b707a21c",
   "metadata": {},
   "outputs": [],
   "source": [
    "old_values= arr3d[0].copy()"
   ]
  },
  {
   "cell_type": "code",
   "execution_count": 153,
   "id": "af9a676f",
   "metadata": {},
   "outputs": [
    {
     "data": {
      "text/plain": [
       "array([[1, 2, 3],\n",
       "       [4, 5, 6]])"
      ]
     },
     "execution_count": 153,
     "metadata": {},
     "output_type": "execute_result"
    }
   ],
   "source": [
    "old_values"
   ]
  },
  {
   "cell_type": "code",
   "execution_count": 150,
   "id": "f4261f4f",
   "metadata": {},
   "outputs": [],
   "source": [
    "arr3d[0]=42"
   ]
  },
  {
   "cell_type": "code",
   "execution_count": 151,
   "id": "57c35c86",
   "metadata": {},
   "outputs": [
    {
     "data": {
      "text/plain": [
       "array([[[42, 42, 42],\n",
       "        [42, 42, 42]],\n",
       "\n",
       "       [[ 7,  8,  9],\n",
       "        [10, 11, 12]]])"
      ]
     },
     "execution_count": 151,
     "metadata": {},
     "output_type": "execute_result"
    }
   ],
   "source": [
    "arr3d"
   ]
  },
  {
   "cell_type": "code",
   "execution_count": 154,
   "id": "c6fdf125",
   "metadata": {},
   "outputs": [],
   "source": [
    "arr3d[0] = old_values"
   ]
  },
  {
   "cell_type": "code",
   "execution_count": 155,
   "id": "bb80351f",
   "metadata": {},
   "outputs": [
    {
     "data": {
      "text/plain": [
       "array([[[ 1,  2,  3],\n",
       "        [ 4,  5,  6]],\n",
       "\n",
       "       [[ 7,  8,  9],\n",
       "        [10, 11, 12]]])"
      ]
     },
     "execution_count": 155,
     "metadata": {},
     "output_type": "execute_result"
    }
   ],
   "source": [
    "arr3d"
   ]
  },
  {
   "cell_type": "code",
   "execution_count": 156,
   "id": "95c5a4bc",
   "metadata": {},
   "outputs": [
    {
     "data": {
      "text/plain": [
       "array([7, 8, 9])"
      ]
     },
     "execution_count": 156,
     "metadata": {},
     "output_type": "execute_result"
    }
   ],
   "source": [
    "arr3d[1,0]"
   ]
  },
  {
   "cell_type": "markdown",
   "id": "4e1169f4",
   "metadata": {},
   "source": [
    "-----"
   ]
  },
  {
   "cell_type": "markdown",
   "id": "9afce3a8",
   "metadata": {},
   "source": [
    "### 切片索引\n"
   ]
  },
  {
   "cell_type": "markdown",
   "id": "143aa648",
   "metadata": {},
   "source": [
    "ndarray的切片语法与Python列表这样的一维对象差不多:"
   ]
  },
  {
   "cell_type": "code",
   "execution_count": 157,
   "id": "a357d07b",
   "metadata": {},
   "outputs": [
    {
     "data": {
      "text/plain": [
       "array([ 2,  3,  4,  5, 64])"
      ]
     },
     "execution_count": 157,
     "metadata": {},
     "output_type": "execute_result"
    }
   ],
   "source": [
    "arr[1:6]"
   ]
  },
  {
   "cell_type": "markdown",
   "id": "abfd4aab",
   "metadata": {},
   "source": [
    "高维度对象的花样比较多，可以在一个或多个轴上进行切片，也可以跟着整数索引混合使用。对于上面的两个二位组："
   ]
  },
  {
   "cell_type": "code",
   "execution_count": 158,
   "id": "3e237a9c",
   "metadata": {},
   "outputs": [
    {
     "data": {
      "text/plain": [
       "array([[1, 2, 3],\n",
       "       [4, 5, 6],\n",
       "       [7, 8, 9]])"
      ]
     },
     "execution_count": 158,
     "metadata": {},
     "output_type": "execute_result"
    }
   ],
   "source": [
    "arr2d"
   ]
  },
  {
   "cell_type": "code",
   "execution_count": 159,
   "id": "03176702",
   "metadata": {},
   "outputs": [
    {
     "data": {
      "text/plain": [
       "array([[1, 2, 3],\n",
       "       [4, 5, 6]])"
      ]
     },
     "execution_count": 159,
     "metadata": {},
     "output_type": "execute_result"
    }
   ],
   "source": [
    "arr2d[:2]"
   ]
  },
  {
   "cell_type": "code",
   "execution_count": 160,
   "id": "ae074cf2",
   "metadata": {},
   "outputs": [
    {
     "data": {
      "text/plain": [
       "array([[2, 3],\n",
       "       [5, 6]])"
      ]
     },
     "execution_count": 160,
     "metadata": {},
     "output_type": "execute_result"
    }
   ],
   "source": [
    "arr2d[:2,1:]"
   ]
  },
  {
   "cell_type": "code",
   "execution_count": 161,
   "id": "e63ca5ee",
   "metadata": {},
   "outputs": [
    {
     "data": {
      "text/plain": [
       "array([[1],\n",
       "       [4]])"
      ]
     },
     "execution_count": 161,
     "metadata": {},
     "output_type": "execute_result"
    }
   ],
   "source": [
    "arr2d[:2,:1]"
   ]
  },
  {
   "cell_type": "code",
   "execution_count": 162,
   "id": "43c9dc86",
   "metadata": {},
   "outputs": [
    {
     "data": {
      "text/plain": [
       "array([4, 5])"
      ]
     },
     "execution_count": 162,
     "metadata": {},
     "output_type": "execute_result"
    }
   ],
   "source": [
    "arr2d[1,:2]"
   ]
  },
  {
   "cell_type": "code",
   "execution_count": 163,
   "id": "dc486f1b",
   "metadata": {},
   "outputs": [
    {
     "data": {
      "text/plain": [
       "array([7])"
      ]
     },
     "execution_count": 163,
     "metadata": {},
     "output_type": "execute_result"
    }
   ],
   "source": [
    "arr2d[2,:1\n",
    "    ]"
   ]
  },
  {
   "cell_type": "code",
   "execution_count": 164,
   "id": "ef690167",
   "metadata": {},
   "outputs": [
    {
     "data": {
      "text/plain": [
       "array([[2, 3],\n",
       "       [5, 6]])"
      ]
     },
     "execution_count": 164,
     "metadata": {},
     "output_type": "execute_result"
    }
   ],
   "source": [
    "arr2d[:2,1:]"
   ]
  },
  {
   "cell_type": "code",
   "execution_count": 165,
   "id": "b9d7761b",
   "metadata": {},
   "outputs": [],
   "source": [
    "arr2d[:2,1:]=1"
   ]
  },
  {
   "cell_type": "code",
   "execution_count": 166,
   "id": "9f7c0271",
   "metadata": {},
   "outputs": [
    {
     "data": {
      "text/plain": [
       "array([[1, 1, 1],\n",
       "       [4, 1, 1],\n",
       "       [7, 8, 9]])"
      ]
     },
     "execution_count": 166,
     "metadata": {},
     "output_type": "execute_result"
    }
   ],
   "source": [
    "arr2d"
   ]
  },
  {
   "cell_type": "markdown",
   "id": "a993334e",
   "metadata": {},
   "source": [
    "----"
   ]
  },
  {
   "cell_type": "markdown",
   "id": "aca304c4",
   "metadata": {},
   "source": [
    "### 布尔型索引"
   ]
  },
  {
   "cell_type": "markdown",
   "id": "4c89ca77",
   "metadata": {},
   "source": [
    "假设我们有一个用于存储数据的数组以及一个存储姓名的数组（含有重复项），首先这里先使用numpy.random 中randn函数生成一些正态分布的随机数据。"
   ]
  },
  {
   "cell_type": "code",
   "execution_count": 171,
   "id": "a5a9d45c",
   "metadata": {},
   "outputs": [],
   "source": [
    "names=np.array(['Bob','Joe','Wil','Job','Bob','Joe','Joe'])"
   ]
  },
  {
   "cell_type": "code",
   "execution_count": 173,
   "id": "5f9eb827",
   "metadata": {},
   "outputs": [],
   "source": [
    "from numpy import random"
   ]
  },
  {
   "cell_type": "code",
   "execution_count": 180,
   "id": "d97827d7",
   "metadata": {},
   "outputs": [],
   "source": [
    "data = random.randn(7,4)\n"
   ]
  },
  {
   "cell_type": "code",
   "execution_count": 181,
   "id": "eff0da91",
   "metadata": {},
   "outputs": [
    {
     "data": {
      "text/plain": [
       "array(['Bob', 'Joe', 'Wil', 'Job', 'Bob', 'Joe', 'Joe'], dtype='<U3')"
      ]
     },
     "execution_count": 181,
     "metadata": {},
     "output_type": "execute_result"
    }
   ],
   "source": [
    "names"
   ]
  },
  {
   "cell_type": "code",
   "execution_count": 183,
   "id": "82a338f2",
   "metadata": {},
   "outputs": [
    {
     "data": {
      "text/plain": [
       "array([[ 1.19342196, -0.34006903,  0.58527039, -0.99019883],\n",
       "       [-0.48576916,  0.00347159, -1.3903184 , -0.95711066],\n",
       "       [ 0.11523118,  1.08454143,  0.12539112,  0.54425664],\n",
       "       [ 0.18982072,  0.85617644, -0.07717565,  0.01692715],\n",
       "       [ 1.76157814,  1.00868065,  0.10579993,  1.13108229],\n",
       "       [-1.30399877,  0.63471102, -0.52106062, -1.12853975],\n",
       "       [-2.52137549, -0.70780839, -0.00395702, -0.70063039]])"
      ]
     },
     "execution_count": 183,
     "metadata": {},
     "output_type": "execute_result"
    }
   ],
   "source": [
    "data"
   ]
  },
  {
   "cell_type": "markdown",
   "id": "b3de0298",
   "metadata": {},
   "source": [
    "假设每一个名字都对应data数组中的一行，而我们想要选出对应名字\"Bob\"的所有行。跟算术运算一样，数组的比较运算（如==）也是矢量化的。因此对于names和字符串中的“Bob”的比较运算将会产生出一个布尔数组：\n"
   ]
  },
  {
   "cell_type": "code",
   "execution_count": 185,
   "id": "92ec8b87",
   "metadata": {},
   "outputs": [
    {
     "data": {
      "text/plain": [
       "array([ True, False, False, False,  True, False, False])"
      ]
     },
     "execution_count": 185,
     "metadata": {},
     "output_type": "execute_result"
    }
   ],
   "source": [
    "names == 'Bob'"
   ]
  },
  {
   "cell_type": "code",
   "execution_count": 186,
   "id": "d33a83d8",
   "metadata": {},
   "outputs": [
    {
     "data": {
      "text/plain": [
       "array([[ 1.19342196, -0.34006903,  0.58527039, -0.99019883],\n",
       "       [ 1.76157814,  1.00868065,  0.10579993,  1.13108229]])"
      ]
     },
     "execution_count": 186,
     "metadata": {},
     "output_type": "execute_result"
    }
   ],
   "source": [
    "data[names=='Bob']"
   ]
  },
  {
   "cell_type": "markdown",
   "id": "0d549c1a",
   "metadata": {},
   "source": [
    "布尔型数组的长度必须跟索引的轴长度一致。此外，还可以将布尔型数组跟切片、整数（或整数序列，稍后将对此进行详细讲解）混合使用"
   ]
  },
  {
   "cell_type": "code",
   "execution_count": 189,
   "id": "6dde8161",
   "metadata": {},
   "outputs": [
    {
     "data": {
      "text/plain": [
       "array([[ 0.58527039, -0.99019883],\n",
       "       [ 0.10579993,  1.13108229]])"
      ]
     },
     "execution_count": 189,
     "metadata": {},
     "output_type": "execute_result"
    }
   ],
   "source": [
    "data [names=='Bob',2:]"
   ]
  },
  {
   "cell_type": "code",
   "execution_count": 192,
   "id": "d4a25adb",
   "metadata": {},
   "outputs": [
    {
     "data": {
      "text/plain": [
       "array([False,  True,  True,  True, False,  True,  True])"
      ]
     },
     "execution_count": 192,
     "metadata": {},
     "output_type": "execute_result"
    }
   ],
   "source": [
    "names !='Bob'"
   ]
  },
  {
   "cell_type": "code",
   "execution_count": 195,
   "id": "a1e24009",
   "metadata": {},
   "outputs": [
    {
     "data": {
      "text/plain": [
       "array([[-0.48576916,  0.00347159, -1.3903184 , -0.95711066],\n",
       "       [ 0.11523118,  1.08454143,  0.12539112,  0.54425664],\n",
       "       [ 0.18982072,  0.85617644, -0.07717565,  0.01692715],\n",
       "       [-1.30399877,  0.63471102, -0.52106062, -1.12853975],\n",
       "       [-2.52137549, -0.70780839, -0.00395702, -0.70063039]])"
      ]
     },
     "execution_count": 195,
     "metadata": {},
     "output_type": "execute_result"
    }
   ],
   "source": [
    "data[(names !='Bob')]"
   ]
  },
  {
   "cell_type": "markdown",
   "id": "c36c3ceb",
   "metadata": {},
   "source": [
    "布尔算术运算符：!不等于，&和，|或"
   ]
  },
  {
   "cell_type": "code",
   "execution_count": 200,
   "id": "e6863f87",
   "metadata": {},
   "outputs": [],
   "source": [
    "mask = (names =='Bob')|(names ==\"Wil\")"
   ]
  },
  {
   "cell_type": "code",
   "execution_count": 201,
   "id": "ce57a75b",
   "metadata": {},
   "outputs": [
    {
     "data": {
      "text/plain": [
       "array([ True, False,  True, False,  True, False, False])"
      ]
     },
     "execution_count": 201,
     "metadata": {},
     "output_type": "execute_result"
    }
   ],
   "source": [
    "mask"
   ]
  },
  {
   "cell_type": "code",
   "execution_count": 202,
   "id": "4bb695f7",
   "metadata": {},
   "outputs": [
    {
     "data": {
      "text/plain": [
       "array([[ 1.19342196, -0.34006903,  0.58527039, -0.99019883],\n",
       "       [ 0.11523118,  1.08454143,  0.12539112,  0.54425664],\n",
       "       [ 1.76157814,  1.00868065,  0.10579993,  1.13108229]])"
      ]
     },
     "execution_count": 202,
     "metadata": {},
     "output_type": "execute_result"
    }
   ],
   "source": [
    "data[mask]"
   ]
  },
  {
   "cell_type": "code",
   "execution_count": 203,
   "id": "a26d219c",
   "metadata": {},
   "outputs": [
    {
     "data": {
      "text/plain": [
       "array([[ 1.19342196, -0.34006903,  0.58527039, -0.99019883],\n",
       "       [-0.48576916,  0.00347159, -1.3903184 , -0.95711066],\n",
       "       [ 0.11523118,  1.08454143,  0.12539112,  0.54425664],\n",
       "       [ 0.18982072,  0.85617644, -0.07717565,  0.01692715],\n",
       "       [ 1.76157814,  1.00868065,  0.10579993,  1.13108229],\n",
       "       [-1.30399877,  0.63471102, -0.52106062, -1.12853975],\n",
       "       [-2.52137549, -0.70780839, -0.00395702, -0.70063039]])"
      ]
     },
     "execution_count": 203,
     "metadata": {},
     "output_type": "execute_result"
    }
   ],
   "source": [
    "data"
   ]
  },
  {
   "cell_type": "markdown",
   "id": "0e2d8597",
   "metadata": {},
   "source": [
    "通过布尔型索引选取的数据，总是创建副本"
   ]
  },
  {
   "cell_type": "markdown",
   "id": "e4e7b0f2",
   "metadata": {},
   "source": [
    "为了将data中所有的复制都设置未0，我们需要："
   ]
  },
  {
   "cell_type": "code",
   "execution_count": 204,
   "id": "60ef4701",
   "metadata": {},
   "outputs": [],
   "source": [
    "data[data<0] =0"
   ]
  },
  {
   "cell_type": "code",
   "execution_count": 205,
   "id": "ec3e597a",
   "metadata": {},
   "outputs": [
    {
     "data": {
      "text/plain": [
       "array([[1.19342196, 0.        , 0.58527039, 0.        ],\n",
       "       [0.        , 0.00347159, 0.        , 0.        ],\n",
       "       [0.11523118, 1.08454143, 0.12539112, 0.54425664],\n",
       "       [0.18982072, 0.85617644, 0.        , 0.01692715],\n",
       "       [1.76157814, 1.00868065, 0.10579993, 1.13108229],\n",
       "       [0.        , 0.63471102, 0.        , 0.        ],\n",
       "       [0.        , 0.        , 0.        , 0.        ]])"
      ]
     },
     "execution_count": 205,
     "metadata": {},
     "output_type": "execute_result"
    }
   ],
   "source": [
    "data"
   ]
  },
  {
   "cell_type": "code",
   "execution_count": 206,
   "id": "6d5c4807",
   "metadata": {},
   "outputs": [],
   "source": [
    "data[names !=\"Joe\"] =1"
   ]
  },
  {
   "cell_type": "code",
   "execution_count": 207,
   "id": "c92aa21d",
   "metadata": {},
   "outputs": [
    {
     "data": {
      "text/plain": [
       "array([[1.        , 1.        , 1.        , 1.        ],\n",
       "       [0.        , 0.00347159, 0.        , 0.        ],\n",
       "       [1.        , 1.        , 1.        , 1.        ],\n",
       "       [1.        , 1.        , 1.        , 1.        ],\n",
       "       [1.        , 1.        , 1.        , 1.        ],\n",
       "       [0.        , 0.63471102, 0.        , 0.        ],\n",
       "       [0.        , 0.        , 0.        , 0.        ]])"
      ]
     },
     "execution_count": 207,
     "metadata": {},
     "output_type": "execute_result"
    }
   ],
   "source": [
    "data"
   ]
  },
  {
   "cell_type": "markdown",
   "id": "58bc12b1",
   "metadata": {},
   "source": [
    "---"
   ]
  },
  {
   "cell_type": "markdown",
   "id": "aee509d2",
   "metadata": {},
   "source": [
    "### 花式索引"
   ]
  },
  {
   "cell_type": "markdown",
   "id": "fd66a7ca",
   "metadata": {},
   "source": [
    "花式索引（Fancy indexing）是一个NumPy术语，它是指利用整数数组及逆行索引。假设有一个8*4的数组"
   ]
  },
  {
   "cell_type": "code",
   "execution_count": 211,
   "id": "292ee56e",
   "metadata": {},
   "outputs": [],
   "source": [
    "arr =np.empty((8,4))"
   ]
  },
  {
   "cell_type": "code",
   "execution_count": 213,
   "id": "ca6ed8e0",
   "metadata": {},
   "outputs": [],
   "source": [
    "for i in range(8):\n",
    "    arr[i] = i"
   ]
  },
  {
   "cell_type": "code",
   "execution_count": 214,
   "id": "1703a614",
   "metadata": {},
   "outputs": [
    {
     "data": {
      "text/plain": [
       "array([[0., 0., 0., 0.],\n",
       "       [1., 1., 1., 1.],\n",
       "       [2., 2., 2., 2.],\n",
       "       [3., 3., 3., 3.],\n",
       "       [4., 4., 4., 4.],\n",
       "       [5., 5., 5., 5.],\n",
       "       [6., 6., 6., 6.],\n",
       "       [7., 7., 7., 7.]])"
      ]
     },
     "execution_count": 214,
     "metadata": {},
     "output_type": "execute_result"
    }
   ],
   "source": [
    "arr"
   ]
  },
  {
   "cell_type": "code",
   "execution_count": 215,
   "id": "dd882ee9",
   "metadata": {},
   "outputs": [
    {
     "data": {
      "text/plain": [
       "array([[4., 4., 4., 4.],\n",
       "       [3., 3., 3., 3.],\n",
       "       [0., 0., 0., 0.],\n",
       "       [6., 6., 6., 6.]])"
      ]
     },
     "execution_count": 215,
     "metadata": {},
     "output_type": "execute_result"
    }
   ],
   "source": [
    "arr[[4,3,0,6]]"
   ]
  },
  {
   "cell_type": "code",
   "execution_count": 216,
   "id": "c3e3024f",
   "metadata": {},
   "outputs": [
    {
     "data": {
      "text/plain": [
       "array([[5., 5., 5., 5.],\n",
       "       [7., 7., 7., 7.],\n",
       "       [0., 0., 0., 0.]])"
      ]
     },
     "execution_count": 216,
     "metadata": {},
     "output_type": "execute_result"
    }
   ],
   "source": [
    "arr[[-3,-1,-8]]"
   ]
  },
  {
   "cell_type": "markdown",
   "id": "0a883e8f",
   "metadata": {},
   "source": [
    "一次性传入多个索引数组会有一点特别。它返回的是一个一维数组，其中的元素对应各个索引元组："
   ]
  },
  {
   "cell_type": "code",
   "execution_count": 217,
   "id": "e8e57507",
   "metadata": {},
   "outputs": [],
   "source": [
    "arr =np.arange(32).reshape((8,4))"
   ]
  },
  {
   "cell_type": "code",
   "execution_count": 218,
   "id": "a9108955",
   "metadata": {},
   "outputs": [
    {
     "data": {
      "text/plain": [
       "array([[ 0,  1,  2,  3],\n",
       "       [ 4,  5,  6,  7],\n",
       "       [ 8,  9, 10, 11],\n",
       "       [12, 13, 14, 15],\n",
       "       [16, 17, 18, 19],\n",
       "       [20, 21, 22, 23],\n",
       "       [24, 25, 26, 27],\n",
       "       [28, 29, 30, 31]])"
      ]
     },
     "execution_count": 218,
     "metadata": {},
     "output_type": "execute_result"
    }
   ],
   "source": [
    "arr"
   ]
  },
  {
   "cell_type": "code",
   "execution_count": 219,
   "id": "2861c1b4",
   "metadata": {},
   "outputs": [
    {
     "data": {
      "text/plain": [
       "array([ 4, 23, 29, 10])"
      ]
     },
     "execution_count": 219,
     "metadata": {},
     "output_type": "execute_result"
    }
   ],
   "source": [
    "arr[[1,5,7,2],[0,3,1,2]]"
   ]
  },
  {
   "cell_type": "code",
   "execution_count": 220,
   "id": "216605ab",
   "metadata": {},
   "outputs": [
    {
     "data": {
      "text/plain": [
       "array([[ 0,  1,  2,  3],\n",
       "       [ 4,  5,  6,  7],\n",
       "       [ 8,  9, 10, 11],\n",
       "       [12, 13, 14, 15],\n",
       "       [16, 17, 18, 19],\n",
       "       [20, 21, 22, 23],\n",
       "       [24, 25, 26, 27],\n",
       "       [28, 29, 30, 31]])"
      ]
     },
     "execution_count": 220,
     "metadata": {},
     "output_type": "execute_result"
    }
   ],
   "source": [
    "arr"
   ]
  },
  {
   "cell_type": "code",
   "execution_count": 221,
   "id": "dccddfb8",
   "metadata": {},
   "outputs": [
    {
     "data": {
      "text/plain": [
       "array([[ 4,  7,  5,  6],\n",
       "       [20, 23, 21, 22],\n",
       "       [28, 31, 29, 30],\n",
       "       [ 8, 11,  9, 10]])"
      ]
     },
     "execution_count": 221,
     "metadata": {},
     "output_type": "execute_result"
    }
   ],
   "source": [
    "arr[[1,5,7,2]][:,[0,3,1,2]]"
   ]
  },
  {
   "cell_type": "markdown",
   "id": "b9a2efde",
   "metadata": {},
   "source": [
    "使用np.ix_函数，可以将两个一维整数数组转换成为一个用于选取方形区域的索引器,后面的【0，3，1，2】是下一个列表内的排序"
   ]
  },
  {
   "cell_type": "code",
   "execution_count": 228,
   "id": "82db6688",
   "metadata": {},
   "outputs": [
    {
     "data": {
      "text/plain": [
       "array([[ 4,  7,  5,  6],\n",
       "       [20, 23, 21, 22],\n",
       "       [28, 31, 29, 30],\n",
       "       [ 8, 11,  9, 10]])"
      ]
     },
     "execution_count": 228,
     "metadata": {},
     "output_type": "execute_result"
    }
   ],
   "source": [
    "arr[np.ix_([1,5,7,2],[0,3,1,2])]"
   ]
  },
  {
   "cell_type": "code",
   "execution_count": 229,
   "id": "c67d07fc",
   "metadata": {},
   "outputs": [
    {
     "data": {
      "text/plain": [
       "array([[ 0,  1,  2,  3],\n",
       "       [ 4,  5,  6,  7],\n",
       "       [ 8,  9, 10, 11],\n",
       "       [12, 13, 14, 15],\n",
       "       [16, 17, 18, 19],\n",
       "       [20, 21, 22, 23],\n",
       "       [24, 25, 26, 27],\n",
       "       [28, 29, 30, 31]])"
      ]
     },
     "execution_count": 229,
     "metadata": {},
     "output_type": "execute_result"
    }
   ],
   "source": [
    "arr"
   ]
  },
  {
   "cell_type": "markdown",
   "id": "a1c9d280",
   "metadata": {},
   "source": [
    "----"
   ]
  },
  {
   "cell_type": "markdown",
   "id": "1ebd315e",
   "metadata": {},
   "source": [
    "### 数组转置和轴对换"
   ]
  },
  {
   "cell_type": "markdown",
   "id": "ab8f9c20",
   "metadata": {},
   "source": [
    "转置（transpose）是重塑的一种特殊形式，它返回的是源数据的视图（不会进行任何复制操作）。数组不仅有transpose方法，它还有一个特殊的T属性："
   ]
  },
  {
   "cell_type": "code",
   "execution_count": 250,
   "id": "81221210",
   "metadata": {},
   "outputs": [],
   "source": [
    "arr = np.arange(15).reshape((3,5))"
   ]
  },
  {
   "cell_type": "code",
   "execution_count": 251,
   "id": "b328a01c",
   "metadata": {},
   "outputs": [
    {
     "data": {
      "text/plain": [
       "array([[ 0,  1,  2,  3,  4],\n",
       "       [ 5,  6,  7,  8,  9],\n",
       "       [10, 11, 12, 13, 14]])"
      ]
     },
     "execution_count": 251,
     "metadata": {},
     "output_type": "execute_result"
    }
   ],
   "source": [
    "arr"
   ]
  },
  {
   "cell_type": "code",
   "execution_count": 242,
   "id": "d2cf53d9",
   "metadata": {},
   "outputs": [
    {
     "data": {
      "text/plain": [
       "array([[ 0,  5, 10],\n",
       "       [ 1,  6, 11],\n",
       "       [ 2,  7, 12],\n",
       "       [ 3,  8, 13],\n",
       "       [ 4,  9, 14]])"
      ]
     },
     "execution_count": 242,
     "metadata": {},
     "output_type": "execute_result"
    }
   ],
   "source": [
    "arr.T"
   ]
  },
  {
   "cell_type": "markdown",
   "id": "40ed282f",
   "metadata": {},
   "source": [
    "在进行矩阵计算时，经常需要用到该操作，比如利用np.dot计算矩阵内积X^TX:"
   ]
  },
  {
   "cell_type": "code",
   "execution_count": 245,
   "id": "245936a9",
   "metadata": {},
   "outputs": [],
   "source": [
    "arr = np.random.randn(6,3)"
   ]
  },
  {
   "cell_type": "code",
   "execution_count": 246,
   "id": "95985633",
   "metadata": {},
   "outputs": [
    {
     "data": {
      "text/plain": [
       "array([[-0.37143205, -0.9863946 , -0.69570537],\n",
       "       [-1.39106531,  0.25169255,  0.19419517],\n",
       "       [ 0.85874461,  0.75743057, -0.77709146],\n",
       "       [-1.34933023, -1.54588238,  0.57860119],\n",
       "       [-1.10398451,  1.10457565,  1.20774744],\n",
       "       [ 0.09181958,  1.88856697,  0.57380147]])"
      ]
     },
     "execution_count": 246,
     "metadata": {},
     "output_type": "execute_result"
    }
   ],
   "source": [
    "arr"
   ]
  },
  {
   "cell_type": "code",
   "execution_count": 247,
   "id": "04922ca1",
   "metadata": {},
   "outputs": [
    {
     "data": {
      "text/plain": [
       "array([[ 5.85837148,  1.70657606, -2.74042633],\n",
       "       [ 1.70657606,  8.7865494 ,  1.6697862 ],\n",
       "       [-2.74042633,  1.6697862 ,  3.24827019]])"
      ]
     },
     "execution_count": 247,
     "metadata": {},
     "output_type": "execute_result"
    }
   ],
   "source": [
    "np.dot(arr.T,arr)"
   ]
  },
  {
   "cell_type": "markdown",
   "id": "e145c162",
   "metadata": {},
   "source": [
    "\n",
    "对于高维组，transpose需要得到由轴编号组成的元组才能对这些轴进行转置：原始轴为（0，1，2）"
   ]
  },
  {
   "cell_type": "code",
   "execution_count": 393,
   "id": "56526369",
   "metadata": {},
   "outputs": [],
   "source": [
    "arr=np.arange(16).reshape((2,2,4))"
   ]
  },
  {
   "cell_type": "code",
   "execution_count": 394,
   "id": "06029b30",
   "metadata": {},
   "outputs": [
    {
     "data": {
      "text/plain": [
       "array([[[ 0,  1,  2,  3],\n",
       "        [ 4,  5,  6,  7]],\n",
       "\n",
       "       [[ 8,  9, 10, 11],\n",
       "        [12, 13, 14, 15]]])"
      ]
     },
     "execution_count": 394,
     "metadata": {},
     "output_type": "execute_result"
    }
   ],
   "source": [
    "arr"
   ]
  },
  {
   "cell_type": "code",
   "execution_count": 406,
   "id": "21825405",
   "metadata": {},
   "outputs": [
    {
     "data": {
      "text/plain": [
       "array([[[ 0,  4],\n",
       "        [ 8, 12]],\n",
       "\n",
       "       [[ 1,  5],\n",
       "        [ 9, 13]],\n",
       "\n",
       "       [[ 2,  6],\n",
       "        [10, 14]],\n",
       "\n",
       "       [[ 3,  7],\n",
       "        [11, 15]]])"
      ]
     },
     "execution_count": 406,
     "metadata": {},
     "output_type": "execute_result"
    }
   ],
   "source": [
    "arr.transpose((2,0,1))"
   ]
  },
  {
   "cell_type": "markdown",
   "id": "9adb7d7d",
   "metadata": {},
   "source": [
    "简单的转置可以用.T，就是进行轴对换。ndarray还有一个swapaxes方法，它需要接受一对轴编号：、"
   ]
  },
  {
   "cell_type": "code",
   "execution_count": 259,
   "id": "023fa4d7",
   "metadata": {},
   "outputs": [
    {
     "data": {
      "text/plain": [
       "array([[[ 0,  1,  2,  3],\n",
       "        [ 4,  5,  6,  7]],\n",
       "\n",
       "       [[ 8,  9, 10, 11],\n",
       "        [12, 13, 14, 15]]])"
      ]
     },
     "execution_count": 259,
     "metadata": {},
     "output_type": "execute_result"
    }
   ],
   "source": [
    "arr"
   ]
  },
  {
   "cell_type": "code",
   "execution_count": 284,
   "id": "80bbd28e",
   "metadata": {},
   "outputs": [
    {
     "data": {
      "text/plain": [
       "array([[[ 0,  4],\n",
       "        [ 1,  5],\n",
       "        [ 2,  6],\n",
       "        [ 3,  7]],\n",
       "\n",
       "       [[ 8, 12],\n",
       "        [ 9, 13],\n",
       "        [10, 14],\n",
       "        [11, 15]]])"
      ]
     },
     "execution_count": 284,
     "metadata": {},
     "output_type": "execute_result"
    }
   ],
   "source": [
    "arr.swapaxes(1,2)"
   ]
  },
  {
   "cell_type": "markdown",
   "id": "9ed8baf8",
   "metadata": {},
   "source": [
    "----"
   ]
  },
  {
   "cell_type": "markdown",
   "id": "aea57fee",
   "metadata": {},
   "source": [
    "### 通用函数：快速的元素级数组函数"
   ]
  },
  {
   "cell_type": "markdown",
   "id": "82feac4e",
   "metadata": {},
   "source": [
    "通用函数（ufun）是一种对ndarray中的数据执行元素级运算的函数。许多的ufunc都是简单的元素级变体，如sqrt与exp"
   ]
  },
  {
   "cell_type": "code",
   "execution_count": 285,
   "id": "30fca9ad",
   "metadata": {},
   "outputs": [],
   "source": [
    "arr = np.arange(10)"
   ]
  },
  {
   "cell_type": "code",
   "execution_count": 287,
   "id": "592d210b",
   "metadata": {
    "direction": "rtl"
   },
   "outputs": [
    {
     "data": {
      "text/plain": [
       "array([0.        , 1.        , 1.41421356, 1.73205081, 2.        ,\n",
       "       2.23606798, 2.44948974, 2.64575131, 2.82842712, 3.        ])"
      ]
     },
     "execution_count": 287,
     "metadata": {},
     "output_type": "execute_result"
    }
   ],
   "source": [
    "np.sqrt(arr)  #sqrt指元素的平方根"
   ]
  },
  {
   "cell_type": "code",
   "execution_count": 289,
   "id": "dd537616",
   "metadata": {},
   "outputs": [
    {
     "data": {
      "text/plain": [
       "array([1.00000000e+00, 2.71828183e+00, 7.38905610e+00, 2.00855369e+01,\n",
       "       5.45981500e+01, 1.48413159e+02, 4.03428793e+02, 1.09663316e+03,\n",
       "       2.98095799e+03, 8.10308393e+03])"
      ]
     },
     "execution_count": 289,
     "metadata": {},
     "output_type": "execute_result"
    }
   ],
   "source": [
    "np.exp(arr) #指各元素的指数e^x"
   ]
  },
  {
   "cell_type": "code",
   "execution_count": 292,
   "id": "1681ee29",
   "metadata": {},
   "outputs": [],
   "source": [
    "x= random.randn(8)\n",
    "y= random.randn(8)"
   ]
  },
  {
   "cell_type": "code",
   "execution_count": 293,
   "id": "88cc7fca",
   "metadata": {},
   "outputs": [
    {
     "data": {
      "text/plain": [
       "array([ 0.47672181,  0.87260329,  0.06098857,  0.16586004, -1.77669657,\n",
       "       -0.25532866,  0.34614081, -1.03342947])"
      ]
     },
     "execution_count": 293,
     "metadata": {},
     "output_type": "execute_result"
    }
   ],
   "source": [
    "x"
   ]
  },
  {
   "cell_type": "code",
   "execution_count": 294,
   "id": "0cedaeb5",
   "metadata": {},
   "outputs": [
    {
     "data": {
      "text/plain": [
       "array([ 1.3871224 ,  1.68436113, -2.44169757, -0.17909508,  0.06659117,\n",
       "       -0.5594039 ,  1.0762344 ,  1.61369559])"
      ]
     },
     "execution_count": 294,
     "metadata": {},
     "output_type": "execute_result"
    }
   ],
   "source": [
    "y\n"
   ]
  },
  {
   "cell_type": "code",
   "execution_count": 296,
   "id": "5984b977",
   "metadata": {},
   "outputs": [
    {
     "data": {
      "text/plain": [
       "array([ 1.3871224 ,  1.68436113,  0.06098857,  0.16586004,  0.06659117,\n",
       "       -0.25532866,  1.0762344 ,  1.61369559])"
      ]
     },
     "execution_count": 296,
     "metadata": {},
     "output_type": "execute_result"
    }
   ],
   "source": [
    "np.maximum(x,y) #元素级最大值"
   ]
  },
  {
   "cell_type": "code",
   "execution_count": 297,
   "id": "470e1332",
   "metadata": {},
   "outputs": [],
   "source": [
    "arr = random.randn(7)*5"
   ]
  },
  {
   "cell_type": "code",
   "execution_count": 298,
   "id": "785bd3c4",
   "metadata": {},
   "outputs": [
    {
     "data": {
      "text/plain": [
       "array([-8.18247411,  5.65717429, -9.02944487, -3.62102868, -4.68913511,\n",
       "       -2.8852995 , -0.25144208])"
      ]
     },
     "execution_count": 298,
     "metadata": {},
     "output_type": "execute_result"
    }
   ],
   "source": [
    "arr"
   ]
  },
  {
   "cell_type": "code",
   "execution_count": 299,
   "id": "b82353dd",
   "metadata": {},
   "outputs": [
    {
     "data": {
      "text/plain": [
       "(array([-0.18247411,  0.65717429, -0.02944487, -0.62102868, -0.68913511,\n",
       "        -0.8852995 , -0.25144208]),\n",
       " array([-8.,  5., -9., -3., -4., -2., -0.]))"
      ]
     },
     "execution_count": 299,
     "metadata": {},
     "output_type": "execute_result"
    }
   ],
   "source": [
    "np.modf(arr)"
   ]
  },
  {
   "cell_type": "markdown",
   "id": "a293a320",
   "metadata": {},
   "source": [
    "---"
   ]
  },
  {
   "cell_type": "markdown",
   "id": "1cd1f0b7",
   "metadata": {},
   "source": [
    "### 利用数组进行数据处理"
   ]
  },
  {
   "cell_type": "markdown",
   "id": "09c14a39",
   "metadata": {},
   "source": [
    "NumPy数组是我们可以将许多种数据处理任务表述为简洁的数组表达式（否则需要编写循环），用数组表达式代表循环的方法，称为矢量化"
   ]
  },
  {
   "cell_type": "markdown",
   "id": "4cb632de",
   "metadata": {},
   "source": [
    "假设我们需要在一组值上计算函数平方和的开根。np.meshgrid函数接受两个一维数组，并产生两个二维矩阵："
   ]
  },
  {
   "cell_type": "code",
   "execution_count": 300,
   "id": "13b443fe",
   "metadata": {},
   "outputs": [],
   "source": [
    "points = np.arange(-5,5,0.01) #1000个间隔相等的点"
   ]
  },
  {
   "cell_type": "code",
   "execution_count": 307,
   "id": "4cb446e8",
   "metadata": {},
   "outputs": [
    {
     "data": {
      "text/plain": [
       "array([-5.  , -4.99, -4.98, -4.97, -4.96, -4.95, -4.94, -4.93, -4.92,\n",
       "       -4.91, -4.9 , -4.89, -4.88, -4.87, -4.86, -4.85, -4.84, -4.83,\n",
       "       -4.82, -4.81, -4.8 , -4.79, -4.78, -4.77, -4.76, -4.75, -4.74,\n",
       "       -4.73, -4.72, -4.71, -4.7 , -4.69, -4.68, -4.67, -4.66, -4.65,\n",
       "       -4.64, -4.63, -4.62, -4.61, -4.6 , -4.59, -4.58, -4.57, -4.56,\n",
       "       -4.55, -4.54, -4.53, -4.52, -4.51, -4.5 , -4.49, -4.48, -4.47,\n",
       "       -4.46, -4.45, -4.44, -4.43, -4.42, -4.41, -4.4 , -4.39, -4.38,\n",
       "       -4.37, -4.36, -4.35, -4.34, -4.33, -4.32, -4.31, -4.3 , -4.29,\n",
       "       -4.28, -4.27, -4.26, -4.25, -4.24, -4.23, -4.22, -4.21, -4.2 ,\n",
       "       -4.19, -4.18, -4.17, -4.16, -4.15, -4.14, -4.13, -4.12, -4.11,\n",
       "       -4.1 , -4.09, -4.08, -4.07, -4.06, -4.05, -4.04, -4.03, -4.02,\n",
       "       -4.01, -4.  , -3.99, -3.98, -3.97, -3.96, -3.95, -3.94, -3.93,\n",
       "       -3.92, -3.91, -3.9 , -3.89, -3.88, -3.87, -3.86, -3.85, -3.84,\n",
       "       -3.83, -3.82, -3.81, -3.8 , -3.79, -3.78, -3.77, -3.76, -3.75,\n",
       "       -3.74, -3.73, -3.72, -3.71, -3.7 , -3.69, -3.68, -3.67, -3.66,\n",
       "       -3.65, -3.64, -3.63, -3.62, -3.61, -3.6 , -3.59, -3.58, -3.57,\n",
       "       -3.56, -3.55, -3.54, -3.53, -3.52, -3.51, -3.5 , -3.49, -3.48,\n",
       "       -3.47, -3.46, -3.45, -3.44, -3.43, -3.42, -3.41, -3.4 , -3.39,\n",
       "       -3.38, -3.37, -3.36, -3.35, -3.34, -3.33, -3.32, -3.31, -3.3 ,\n",
       "       -3.29, -3.28, -3.27, -3.26, -3.25, -3.24, -3.23, -3.22, -3.21,\n",
       "       -3.2 , -3.19, -3.18, -3.17, -3.16, -3.15, -3.14, -3.13, -3.12,\n",
       "       -3.11, -3.1 , -3.09, -3.08, -3.07, -3.06, -3.05, -3.04, -3.03,\n",
       "       -3.02, -3.01, -3.  , -2.99, -2.98, -2.97, -2.96, -2.95, -2.94,\n",
       "       -2.93, -2.92, -2.91, -2.9 , -2.89, -2.88, -2.87, -2.86, -2.85,\n",
       "       -2.84, -2.83, -2.82, -2.81, -2.8 , -2.79, -2.78, -2.77, -2.76,\n",
       "       -2.75, -2.74, -2.73, -2.72, -2.71, -2.7 , -2.69, -2.68, -2.67,\n",
       "       -2.66, -2.65, -2.64, -2.63, -2.62, -2.61, -2.6 , -2.59, -2.58,\n",
       "       -2.57, -2.56, -2.55, -2.54, -2.53, -2.52, -2.51, -2.5 , -2.49,\n",
       "       -2.48, -2.47, -2.46, -2.45, -2.44, -2.43, -2.42, -2.41, -2.4 ,\n",
       "       -2.39, -2.38, -2.37, -2.36, -2.35, -2.34, -2.33, -2.32, -2.31,\n",
       "       -2.3 , -2.29, -2.28, -2.27, -2.26, -2.25, -2.24, -2.23, -2.22,\n",
       "       -2.21, -2.2 , -2.19, -2.18, -2.17, -2.16, -2.15, -2.14, -2.13,\n",
       "       -2.12, -2.11, -2.1 , -2.09, -2.08, -2.07, -2.06, -2.05, -2.04,\n",
       "       -2.03, -2.02, -2.01, -2.  , -1.99, -1.98, -1.97, -1.96, -1.95,\n",
       "       -1.94, -1.93, -1.92, -1.91, -1.9 , -1.89, -1.88, -1.87, -1.86,\n",
       "       -1.85, -1.84, -1.83, -1.82, -1.81, -1.8 , -1.79, -1.78, -1.77,\n",
       "       -1.76, -1.75, -1.74, -1.73, -1.72, -1.71, -1.7 , -1.69, -1.68,\n",
       "       -1.67, -1.66, -1.65, -1.64, -1.63, -1.62, -1.61, -1.6 , -1.59,\n",
       "       -1.58, -1.57, -1.56, -1.55, -1.54, -1.53, -1.52, -1.51, -1.5 ,\n",
       "       -1.49, -1.48, -1.47, -1.46, -1.45, -1.44, -1.43, -1.42, -1.41,\n",
       "       -1.4 , -1.39, -1.38, -1.37, -1.36, -1.35, -1.34, -1.33, -1.32,\n",
       "       -1.31, -1.3 , -1.29, -1.28, -1.27, -1.26, -1.25, -1.24, -1.23,\n",
       "       -1.22, -1.21, -1.2 , -1.19, -1.18, -1.17, -1.16, -1.15, -1.14,\n",
       "       -1.13, -1.12, -1.11, -1.1 , -1.09, -1.08, -1.07, -1.06, -1.05,\n",
       "       -1.04, -1.03, -1.02, -1.01, -1.  , -0.99, -0.98, -0.97, -0.96,\n",
       "       -0.95, -0.94, -0.93, -0.92, -0.91, -0.9 , -0.89, -0.88, -0.87,\n",
       "       -0.86, -0.85, -0.84, -0.83, -0.82, -0.81, -0.8 , -0.79, -0.78,\n",
       "       -0.77, -0.76, -0.75, -0.74, -0.73, -0.72, -0.71, -0.7 , -0.69,\n",
       "       -0.68, -0.67, -0.66, -0.65, -0.64, -0.63, -0.62, -0.61, -0.6 ,\n",
       "       -0.59, -0.58, -0.57, -0.56, -0.55, -0.54, -0.53, -0.52, -0.51,\n",
       "       -0.5 , -0.49, -0.48, -0.47, -0.46, -0.45, -0.44, -0.43, -0.42,\n",
       "       -0.41, -0.4 , -0.39, -0.38, -0.37, -0.36, -0.35, -0.34, -0.33,\n",
       "       -0.32, -0.31, -0.3 , -0.29, -0.28, -0.27, -0.26, -0.25, -0.24,\n",
       "       -0.23, -0.22, -0.21, -0.2 , -0.19, -0.18, -0.17, -0.16, -0.15,\n",
       "       -0.14, -0.13, -0.12, -0.11, -0.1 , -0.09, -0.08, -0.07, -0.06,\n",
       "       -0.05, -0.04, -0.03, -0.02, -0.01, -0.  ,  0.01,  0.02,  0.03,\n",
       "        0.04,  0.05,  0.06,  0.07,  0.08,  0.09,  0.1 ,  0.11,  0.12,\n",
       "        0.13,  0.14,  0.15,  0.16,  0.17,  0.18,  0.19,  0.2 ,  0.21,\n",
       "        0.22,  0.23,  0.24,  0.25,  0.26,  0.27,  0.28,  0.29,  0.3 ,\n",
       "        0.31,  0.32,  0.33,  0.34,  0.35,  0.36,  0.37,  0.38,  0.39,\n",
       "        0.4 ,  0.41,  0.42,  0.43,  0.44,  0.45,  0.46,  0.47,  0.48,\n",
       "        0.49,  0.5 ,  0.51,  0.52,  0.53,  0.54,  0.55,  0.56,  0.57,\n",
       "        0.58,  0.59,  0.6 ,  0.61,  0.62,  0.63,  0.64,  0.65,  0.66,\n",
       "        0.67,  0.68,  0.69,  0.7 ,  0.71,  0.72,  0.73,  0.74,  0.75,\n",
       "        0.76,  0.77,  0.78,  0.79,  0.8 ,  0.81,  0.82,  0.83,  0.84,\n",
       "        0.85,  0.86,  0.87,  0.88,  0.89,  0.9 ,  0.91,  0.92,  0.93,\n",
       "        0.94,  0.95,  0.96,  0.97,  0.98,  0.99,  1.  ,  1.01,  1.02,\n",
       "        1.03,  1.04,  1.05,  1.06,  1.07,  1.08,  1.09,  1.1 ,  1.11,\n",
       "        1.12,  1.13,  1.14,  1.15,  1.16,  1.17,  1.18,  1.19,  1.2 ,\n",
       "        1.21,  1.22,  1.23,  1.24,  1.25,  1.26,  1.27,  1.28,  1.29,\n",
       "        1.3 ,  1.31,  1.32,  1.33,  1.34,  1.35,  1.36,  1.37,  1.38,\n",
       "        1.39,  1.4 ,  1.41,  1.42,  1.43,  1.44,  1.45,  1.46,  1.47,\n",
       "        1.48,  1.49,  1.5 ,  1.51,  1.52,  1.53,  1.54,  1.55,  1.56,\n",
       "        1.57,  1.58,  1.59,  1.6 ,  1.61,  1.62,  1.63,  1.64,  1.65,\n",
       "        1.66,  1.67,  1.68,  1.69,  1.7 ,  1.71,  1.72,  1.73,  1.74,\n",
       "        1.75,  1.76,  1.77,  1.78,  1.79,  1.8 ,  1.81,  1.82,  1.83,\n",
       "        1.84,  1.85,  1.86,  1.87,  1.88,  1.89,  1.9 ,  1.91,  1.92,\n",
       "        1.93,  1.94,  1.95,  1.96,  1.97,  1.98,  1.99,  2.  ,  2.01,\n",
       "        2.02,  2.03,  2.04,  2.05,  2.06,  2.07,  2.08,  2.09,  2.1 ,\n",
       "        2.11,  2.12,  2.13,  2.14,  2.15,  2.16,  2.17,  2.18,  2.19,\n",
       "        2.2 ,  2.21,  2.22,  2.23,  2.24,  2.25,  2.26,  2.27,  2.28,\n",
       "        2.29,  2.3 ,  2.31,  2.32,  2.33,  2.34,  2.35,  2.36,  2.37,\n",
       "        2.38,  2.39,  2.4 ,  2.41,  2.42,  2.43,  2.44,  2.45,  2.46,\n",
       "        2.47,  2.48,  2.49,  2.5 ,  2.51,  2.52,  2.53,  2.54,  2.55,\n",
       "        2.56,  2.57,  2.58,  2.59,  2.6 ,  2.61,  2.62,  2.63,  2.64,\n",
       "        2.65,  2.66,  2.67,  2.68,  2.69,  2.7 ,  2.71,  2.72,  2.73,\n",
       "        2.74,  2.75,  2.76,  2.77,  2.78,  2.79,  2.8 ,  2.81,  2.82,\n",
       "        2.83,  2.84,  2.85,  2.86,  2.87,  2.88,  2.89,  2.9 ,  2.91,\n",
       "        2.92,  2.93,  2.94,  2.95,  2.96,  2.97,  2.98,  2.99,  3.  ,\n",
       "        3.01,  3.02,  3.03,  3.04,  3.05,  3.06,  3.07,  3.08,  3.09,\n",
       "        3.1 ,  3.11,  3.12,  3.13,  3.14,  3.15,  3.16,  3.17,  3.18,\n",
       "        3.19,  3.2 ,  3.21,  3.22,  3.23,  3.24,  3.25,  3.26,  3.27,\n",
       "        3.28,  3.29,  3.3 ,  3.31,  3.32,  3.33,  3.34,  3.35,  3.36,\n",
       "        3.37,  3.38,  3.39,  3.4 ,  3.41,  3.42,  3.43,  3.44,  3.45,\n",
       "        3.46,  3.47,  3.48,  3.49,  3.5 ,  3.51,  3.52,  3.53,  3.54,\n",
       "        3.55,  3.56,  3.57,  3.58,  3.59,  3.6 ,  3.61,  3.62,  3.63,\n",
       "        3.64,  3.65,  3.66,  3.67,  3.68,  3.69,  3.7 ,  3.71,  3.72,\n",
       "        3.73,  3.74,  3.75,  3.76,  3.77,  3.78,  3.79,  3.8 ,  3.81,\n",
       "        3.82,  3.83,  3.84,  3.85,  3.86,  3.87,  3.88,  3.89,  3.9 ,\n",
       "        3.91,  3.92,  3.93,  3.94,  3.95,  3.96,  3.97,  3.98,  3.99,\n",
       "        4.  ,  4.01,  4.02,  4.03,  4.04,  4.05,  4.06,  4.07,  4.08,\n",
       "        4.09,  4.1 ,  4.11,  4.12,  4.13,  4.14,  4.15,  4.16,  4.17,\n",
       "        4.18,  4.19,  4.2 ,  4.21,  4.22,  4.23,  4.24,  4.25,  4.26,\n",
       "        4.27,  4.28,  4.29,  4.3 ,  4.31,  4.32,  4.33,  4.34,  4.35,\n",
       "        4.36,  4.37,  4.38,  4.39,  4.4 ,  4.41,  4.42,  4.43,  4.44,\n",
       "        4.45,  4.46,  4.47,  4.48,  4.49,  4.5 ,  4.51,  4.52,  4.53,\n",
       "        4.54,  4.55,  4.56,  4.57,  4.58,  4.59,  4.6 ,  4.61,  4.62,\n",
       "        4.63,  4.64,  4.65,  4.66,  4.67,  4.68,  4.69,  4.7 ,  4.71,\n",
       "        4.72,  4.73,  4.74,  4.75,  4.76,  4.77,  4.78,  4.79,  4.8 ,\n",
       "        4.81,  4.82,  4.83,  4.84,  4.85,  4.86,  4.87,  4.88,  4.89,\n",
       "        4.9 ,  4.91,  4.92,  4.93,  4.94,  4.95,  4.96,  4.97,  4.98,\n",
       "        4.99], dtype=float16)"
      ]
     },
     "execution_count": 307,
     "metadata": {},
     "output_type": "execute_result"
    }
   ],
   "source": [
    "points.astype(np.float16)"
   ]
  },
  {
   "cell_type": "code",
   "execution_count": 301,
   "id": "bcf39a28",
   "metadata": {},
   "outputs": [],
   "source": [
    "xs,ys = np.meshgrid(points,points)"
   ]
  },
  {
   "cell_type": "code",
   "execution_count": 302,
   "id": "257af60e",
   "metadata": {},
   "outputs": [
    {
     "data": {
      "text/plain": [
       "array([[-5.  , -5.  , -5.  , ..., -5.  , -5.  , -5.  ],\n",
       "       [-4.99, -4.99, -4.99, ..., -4.99, -4.99, -4.99],\n",
       "       [-4.98, -4.98, -4.98, ..., -4.98, -4.98, -4.98],\n",
       "       ...,\n",
       "       [ 4.97,  4.97,  4.97, ...,  4.97,  4.97,  4.97],\n",
       "       [ 4.98,  4.98,  4.98, ...,  4.98,  4.98,  4.98],\n",
       "       [ 4.99,  4.99,  4.99, ...,  4.99,  4.99,  4.99]])"
      ]
     },
     "execution_count": 302,
     "metadata": {},
     "output_type": "execute_result"
    }
   ],
   "source": [
    "ys"
   ]
  },
  {
   "cell_type": "code",
   "execution_count": 303,
   "id": "534fb265",
   "metadata": {},
   "outputs": [
    {
     "data": {
      "text/plain": [
       "array([[-5.  , -4.99, -4.98, ...,  4.97,  4.98,  4.99],\n",
       "       [-5.  , -4.99, -4.98, ...,  4.97,  4.98,  4.99],\n",
       "       [-5.  , -4.99, -4.98, ...,  4.97,  4.98,  4.99],\n",
       "       ...,\n",
       "       [-5.  , -4.99, -4.98, ...,  4.97,  4.98,  4.99],\n",
       "       [-5.  , -4.99, -4.98, ...,  4.97,  4.98,  4.99],\n",
       "       [-5.  , -4.99, -4.98, ...,  4.97,  4.98,  4.99]])"
      ]
     },
     "execution_count": 303,
     "metadata": {},
     "output_type": "execute_result"
    }
   ],
   "source": [
    "xs"
   ]
  },
  {
   "cell_type": "code",
   "execution_count": 308,
   "id": "b37970ca",
   "metadata": {},
   "outputs": [],
   "source": [
    "import matplotlib.pyplot as plt"
   ]
  },
  {
   "cell_type": "code",
   "execution_count": 309,
   "id": "c28e5526",
   "metadata": {},
   "outputs": [],
   "source": [
    "z =np.sqrt(xs**2 +ys**2)"
   ]
  },
  {
   "cell_type": "code",
   "execution_count": 310,
   "id": "a7af591e",
   "metadata": {},
   "outputs": [
    {
     "data": {
      "text/plain": [
       "array([[7.07106781, 7.06400028, 7.05693985, ..., 7.04988652, 7.05693985,\n",
       "        7.06400028],\n",
       "       [7.06400028, 7.05692568, 7.04985815, ..., 7.04279774, 7.04985815,\n",
       "        7.05692568],\n",
       "       [7.05693985, 7.04985815, 7.04278354, ..., 7.03571603, 7.04278354,\n",
       "        7.04985815],\n",
       "       ...,\n",
       "       [7.04988652, 7.04279774, 7.03571603, ..., 7.0286414 , 7.03571603,\n",
       "        7.04279774],\n",
       "       [7.05693985, 7.04985815, 7.04278354, ..., 7.03571603, 7.04278354,\n",
       "        7.04985815],\n",
       "       [7.06400028, 7.05692568, 7.04985815, ..., 7.04279774, 7.04985815,\n",
       "        7.05692568]])"
      ]
     },
     "execution_count": 310,
     "metadata": {},
     "output_type": "execute_result"
    }
   ],
   "source": [
    "z"
   ]
  },
  {
   "cell_type": "code",
   "execution_count": 311,
   "id": "8424ca78",
   "metadata": {},
   "outputs": [
    {
     "data": {
      "text/plain": [
       "<matplotlib.colorbar.Colorbar at 0x13b9e53c070>"
      ]
     },
     "execution_count": 311,
     "metadata": {},
     "output_type": "execute_result"
    },
    {
     "data": {
      "image/png": "[encoded data removed]",
      "text/plain": [
       "<Figure size 432x288 with 2 Axes>"
      ]
     },
     "metadata": {
      "needs_background": "light"
     },
     "output_type": "display_data"
    }
   ],
   "source": [
    "plt.imshow(z,cmap=plt.cm.gray);plt.colorbar()"
   ]
  },
  {
   "cell_type": "markdown",
   "id": "13400c65",
   "metadata": {},
   "source": [
    "----"
   ]
  },
  {
   "cell_type": "markdown",
   "id": "98631289",
   "metadata": {},
   "source": [
    "### 将条件逻辑表述为数组运算"
   ]
  },
  {
   "cell_type": "markdown",
   "id": "ec57f7f5",
   "metadata": {},
   "source": [
    "numpy.where 函数是三元表达式 x if condition else y 的矢量化版本。假设我们有一个布尔数组和两个值数组："
   ]
  },
  {
   "cell_type": "code",
   "execution_count": 315,
   "id": "b30dcee7",
   "metadata": {},
   "outputs": [],
   "source": [
    "xarr = np.arange(1.1,1.6,0.1)"
   ]
  },
  {
   "cell_type": "code",
   "execution_count": 316,
   "id": "2e2fa97b",
   "metadata": {},
   "outputs": [
    {
     "data": {
      "text/plain": [
       "array([1.1, 1.2, 1.3, 1.4, 1.5])"
      ]
     },
     "execution_count": 316,
     "metadata": {},
     "output_type": "execute_result"
    }
   ],
   "source": [
    "xarr"
   ]
  },
  {
   "cell_type": "code",
   "execution_count": 317,
   "id": "f466cccd",
   "metadata": {},
   "outputs": [],
   "source": [
    "yarr = np.arange(2.1,2.6,0.1)"
   ]
  },
  {
   "cell_type": "code",
   "execution_count": 318,
   "id": "88ec9ae3",
   "metadata": {},
   "outputs": [
    {
     "data": {
      "text/plain": [
       "array([2.1, 2.2, 2.3, 2.4, 2.5])"
      ]
     },
     "execution_count": 318,
     "metadata": {},
     "output_type": "execute_result"
    }
   ],
   "source": [
    "yarr"
   ]
  },
  {
   "cell_type": "code",
   "execution_count": 319,
   "id": "f1afbb06",
   "metadata": {},
   "outputs": [],
   "source": [
    "cond = np.array([True,False,True,True,False])"
   ]
  },
  {
   "cell_type": "markdown",
   "id": "1d7119c3",
   "metadata": {},
   "source": [
    "假设我们要根据cond种的值选取xarr和yarr的值：当cond中的值为True时，选取xarr的值，否则从yarr中选取。列表推导式应该写为："
   ]
  },
  {
   "cell_type": "code",
   "execution_count": 321,
   "id": "43ba232c",
   "metadata": {},
   "outputs": [],
   "source": [
    "result =[(x if c else y)\n",
    "    for x,y,c in zip(xarr,yarr,cond)]"
   ]
  },
  {
   "cell_type": "code",
   "execution_count": 322,
   "id": "8adcfe8f",
   "metadata": {},
   "outputs": [
    {
     "data": {
      "text/plain": [
       "[1.1, 2.2, 1.3000000000000003, 1.4000000000000004, 2.5000000000000004]"
      ]
     },
     "execution_count": 322,
     "metadata": {},
     "output_type": "execute_result"
    }
   ],
   "source": [
    "result"
   ]
  },
  {
   "cell_type": "markdown",
   "id": "caebaaf4",
   "metadata": {},
   "source": [
    "缺点在于，处理速度慢，无法用于多维数组。下面使用np.where"
   ]
  },
  {
   "cell_type": "code",
   "execution_count": 325,
   "id": "4fc30808",
   "metadata": {},
   "outputs": [],
   "source": [
    "result = np.where(cond,xarr,yarr)"
   ]
  },
  {
   "cell_type": "code",
   "execution_count": 326,
   "id": "bafa1eee",
   "metadata": {},
   "outputs": [
    {
     "data": {
      "text/plain": [
       "array([1.1, 2.2, 1.3, 1.4, 2.5])"
      ]
     },
     "execution_count": 326,
     "metadata": {},
     "output_type": "execute_result"
    }
   ],
   "source": [
    "result"
   ]
  },
  {
   "cell_type": "markdown",
   "id": "d0711420",
   "metadata": {},
   "source": [
    "在数据分析工作中，where通常用于根据另一个数组而产生一个新的数组。假设有一个随机数据组成的矩阵，我们希望所有的正值替换成2，所有的负值替换成-2。"
   ]
  },
  {
   "cell_type": "code",
   "execution_count": 327,
   "id": "313aac5d",
   "metadata": {},
   "outputs": [],
   "source": [
    "arr=random.randn(4,4)"
   ]
  },
  {
   "cell_type": "code",
   "execution_count": 328,
   "id": "275b5e84",
   "metadata": {},
   "outputs": [
    {
     "data": {
      "text/plain": [
       "array([[-0.19207156,  0.60086302, -1.66246697, -0.27047308],\n",
       "       [-0.9208546 , -0.800727  , -0.97318649,  0.05096214],\n",
       "       [ 0.17275676,  0.61291519,  0.64990416, -0.09832714],\n",
       "       [-0.00184373, -1.73189564,  0.34379764, -0.48637111]])"
      ]
     },
     "execution_count": 328,
     "metadata": {},
     "output_type": "execute_result"
    }
   ],
   "source": [
    "arr"
   ]
  },
  {
   "cell_type": "code",
   "execution_count": 329,
   "id": "9032b1a6",
   "metadata": {},
   "outputs": [
    {
     "data": {
      "text/plain": [
       "array([[-2,  2, -2, -2],\n",
       "       [-2, -2, -2,  2],\n",
       "       [ 2,  2,  2, -2],\n",
       "       [-2, -2,  2, -2]])"
      ]
     },
     "execution_count": 329,
     "metadata": {},
     "output_type": "execute_result"
    }
   ],
   "source": [
    "np.where(arr>0,2,-2)"
   ]
  },
  {
   "cell_type": "markdown",
   "id": "fe8d07ec",
   "metadata": {},
   "source": [
    "`下面一个更为复杂的例子"
   ]
  },
  {
   "cell_type": "markdown",
   "id": "8d637bb0",
   "metadata": {},
   "source": [
    "np.where(cond1 & cond2,0,\n",
    "         np.where(cond1,1,\n",
    "                  np.where,cond2,2,3))"
   ]
  },
  {
   "cell_type": "markdown",
   "id": "11e4c7e6",
   "metadata": {},
   "source": [
    "---"
   ]
  },
  {
   "cell_type": "markdown",
   "id": "05f75f99",
   "metadata": {},
   "source": [
    "### 数学和统计方法"
   ]
  },
  {
   "cell_type": "markdown",
   "id": "60613048",
   "metadata": {},
   "source": [
    "可以通过数组上的一组数学函数对整个数组或某个轴向的数据进行统计计算。sum、mean以及标准差std等聚合计算（aggregation，通常叫做约简），即可以当作数组的实例方法调用，也可以当作顶级NumPy函数使用。"
   ]
  },
  {
   "cell_type": "code",
   "execution_count": 375,
   "id": "da143340",
   "metadata": {},
   "outputs": [],
   "source": [
    "arr=np.array([[1,2,3],[4,5,6]])"
   ]
  },
  {
   "cell_type": "code",
   "execution_count": 376,
   "id": "66bbc028",
   "metadata": {},
   "outputs": [
    {
     "data": {
      "text/plain": [
       "array([[1, 2, 3],\n",
       "       [4, 5, 6]])"
      ]
     },
     "execution_count": 376,
     "metadata": {},
     "output_type": "execute_result"
    }
   ],
   "source": [
    "arr"
   ]
  },
  {
   "cell_type": "code",
   "execution_count": 377,
   "id": "648d140e",
   "metadata": {},
   "outputs": [
    {
     "data": {
      "text/plain": [
       "3.5"
      ]
     },
     "execution_count": 377,
     "metadata": {},
     "output_type": "execute_result"
    }
   ],
   "source": [
    "arr.mean()"
   ]
  },
  {
   "cell_type": "code",
   "execution_count": 378,
   "id": "7f3985e1",
   "metadata": {},
   "outputs": [
    {
     "data": {
      "text/plain": [
       "3.5"
      ]
     },
     "execution_count": 378,
     "metadata": {},
     "output_type": "execute_result"
    }
   ],
   "source": [
    "np.mean(arr)"
   ]
  },
  {
   "cell_type": "code",
   "execution_count": 379,
   "id": "5e8f9af9",
   "metadata": {},
   "outputs": [
    {
     "data": {
      "text/plain": [
       "21"
      ]
     },
     "execution_count": 379,
     "metadata": {},
     "output_type": "execute_result"
    }
   ],
   "source": [
    "arr.sum()"
   ]
  },
  {
   "cell_type": "code",
   "execution_count": 380,
   "id": "8e06cb03",
   "metadata": {},
   "outputs": [
    {
     "data": {
      "text/plain": [
       "21"
      ]
     },
     "execution_count": 380,
     "metadata": {},
     "output_type": "execute_result"
    }
   ],
   "source": [
    "np.sum(arr)"
   ]
  },
  {
   "cell_type": "code",
   "execution_count": 381,
   "id": "7b80485d",
   "metadata": {},
   "outputs": [
    {
     "data": {
      "text/plain": [
       "array([2., 5.])"
      ]
     },
     "execution_count": 381,
     "metadata": {},
     "output_type": "execute_result"
    }
   ],
   "source": [
    "arr.mean(axis=1)"
   ]
  },
  {
   "cell_type": "code",
   "execution_count": 382,
   "id": "4a61fb51",
   "metadata": {},
   "outputs": [
    {
     "data": {
      "text/plain": [
       "2.0"
      ]
     },
     "execution_count": 382,
     "metadata": {},
     "output_type": "execute_result"
    }
   ],
   "source": [
    "np.mean(arr[0])"
   ]
  },
  {
   "cell_type": "code",
   "execution_count": 383,
   "id": "1abe5049",
   "metadata": {},
   "outputs": [
    {
     "data": {
      "text/plain": [
       "array([2.5, 3.5, 4.5])"
      ]
     },
     "execution_count": 383,
     "metadata": {},
     "output_type": "execute_result"
    }
   ],
   "source": [
    "arr.mean(0)"
   ]
  },
  {
   "cell_type": "code",
   "execution_count": 384,
   "id": "d17b06f3",
   "metadata": {},
   "outputs": [
    {
     "data": {
      "text/plain": [
       "array([5, 7, 9])"
      ]
     },
     "execution_count": 384,
     "metadata": {},
     "output_type": "execute_result"
    }
   ],
   "source": [
    "arr.sum(0)"
   ]
  },
  {
   "cell_type": "markdown",
   "id": "fe7611ab",
   "metadata": {},
   "source": [
    "mean和sum这类函数可以接受一个axis参数（用于计算该轴向上的统计值），最终结果时一个少一维的数组\n",
    "\n",
    "axis=1，是对横向向求平均。\n",
    "axis=0，对所有数据在0轴上操作,竖向"
   ]
  },
  {
   "cell_type": "code",
   "execution_count": 359,
   "id": "95581a7f",
   "metadata": {},
   "outputs": [
    {
     "data": {
      "text/plain": [
       "array([ 9, 12, 15])"
      ]
     },
     "execution_count": 359,
     "metadata": {},
     "output_type": "execute_result"
    }
   ],
   "source": [
    "arr.sum(0)"
   ]
  },
  {
   "cell_type": "markdown",
   "id": "b22d4873",
   "metadata": {},
   "source": [
    "使用如cumsum和cumprod之类的方法*（所有元素的累计和或积)则不聚合。\n"
   ]
  },
  {
   "cell_type": "code",
   "execution_count": 388,
   "id": "e5348274",
   "metadata": {},
   "outputs": [],
   "source": [
    "arr = np.array([[0,1,2],[3,4,5],[6,7,8]])"
   ]
  },
  {
   "cell_type": "code",
   "execution_count": 9,
   "id": "2c220dd7",
   "metadata": {},
   "outputs": [
    {
     "data": {
      "text/plain": [
       "array([-0.03806078,  1.83822166, -0.47233185,  0.0733428 ,  0.71170308,\n",
       "        1.26062804, -0.26742251, -0.51862666,  0.95697454,  1.03876311,\n",
       "       -2.09799015, -0.44951331, -0.95774325,  0.28551655, -1.14828363,\n",
       "        0.19644748, -1.18626357,  3.03357477, -0.19236656, -0.29360321,\n",
       "       -0.82059541,  0.58395105,  1.00153356,  0.76480776, -1.85020508,\n",
       "       -0.21208105, -0.94932139, -0.57042622, -0.49672034, -0.67845131,\n",
       "        0.19042879,  1.75335274, -2.58172151,  1.04426899,  0.14851959,\n",
       "        1.19323339, -1.74844315,  2.18326552,  2.20301229,  0.63824287,\n",
       "       -0.68173767, -1.59115622,  1.71303832, -1.41779214, -0.26056584,\n",
       "       -0.6580992 ,  1.06395648,  0.43566243, -0.86913705,  0.42118091,\n",
       "        0.8919896 ,  1.20328994,  0.92591103, -0.84813391,  0.06155073,\n",
       "        1.55094217,  0.15240799,  0.27193601,  0.14337983,  1.28083084,\n",
       "       -0.47093211,  0.16158089, -0.88504162, -0.19631413, -1.31274393,\n",
       "       -0.08287302,  0.08738904,  0.3595695 , -0.19321741, -0.97834758,\n",
       "       -0.31893027,  0.15854706, -1.16405834, -0.27904073,  1.14975883,\n",
       "        1.51511883, -0.99275994, -1.2769406 , -1.8065125 , -0.53742818,\n",
       "        1.41845277,  0.60126989,  0.13366283,  0.14592378, -0.42999141,\n",
       "        0.53719146, -1.01167349,  0.53666283,  0.59076542, -0.46138249,\n",
       "        0.96166825,  1.07580748,  0.25325913, -0.31755336, -0.54304675,\n",
       "        0.99767201, -1.58457098,  0.23889416,  0.9351825 , -0.87992617])"
      ]
     },
     "execution_count": 9,
     "metadata": {},
     "output_type": "execute_result"
    }
   ],
   "source": [
    "arr"
   ]
  },
  {
   "cell_type": "code",
   "execution_count": 357,
   "id": "75187b12",
   "metadata": {},
   "outputs": [
    {
     "data": {
      "text/plain": [
       "array([[ 0,  1,  2],\n",
       "       [ 3,  5,  7],\n",
       "       [ 9, 12, 15]], dtype=int32)"
      ]
     },
     "execution_count": 357,
     "metadata": {},
     "output_type": "execute_result"
    }
   ],
   "source": [
    "arr.cumsum(0)"
   ]
  },
  {
   "cell_type": "code",
   "execution_count": 390,
   "id": "16e35f4f",
   "metadata": {},
   "outputs": [
    {
     "data": {
      "text/plain": [
       "array([[ 0,  1,  2],\n",
       "       [ 0,  4, 10],\n",
       "       [ 0, 28, 80]], dtype=int32)"
      ]
     },
     "execution_count": 390,
     "metadata": {},
     "output_type": "execute_result"
    }
   ],
   "source": [
    "arr.cumprod(0)"
   ]
  },
  {
   "cell_type": "code",
   "execution_count": 391,
   "id": "41c863d7",
   "metadata": {},
   "outputs": [
    {
     "data": {
      "text/plain": [
       "array([[  0,   0,   0],\n",
       "       [  3,  12,  60],\n",
       "       [  6,  42, 336]], dtype=int32)"
      ]
     },
     "execution_count": 391,
     "metadata": {},
     "output_type": "execute_result"
    }
   ],
   "source": [
    "arr.cumprod(1)"
   ]
  },
  {
   "cell_type": "markdown",
   "id": "a8dc37fe",
   "metadata": {},
   "source": [
    "----"
   ]
  },
  {
   "cell_type": "markdown",
   "id": "670d7835",
   "metadata": {},
   "source": [
    "### 用于布尔型数组的方法"
   ]
  },
  {
   "cell_type": "markdown",
   "id": "df0ba192",
   "metadata": {},
   "source": [
    "在上面这些方法中，布尔值会被强制转换为1（True）和0（False）。因此sum经常被用来对布尔型数组中的True值计数"
   ]
  },
  {
   "cell_type": "code",
   "execution_count": 7,
   "id": "20ef2599",
   "metadata": {},
   "outputs": [],
   "source": [
    "import numpy as np\n",
    "\n",
    "arr = np.random.randn(100)"
   ]
  },
  {
   "cell_type": "code",
   "execution_count": 8,
   "id": "30ce1fe1",
   "metadata": {},
   "outputs": [
    {
     "data": {
      "text/plain": [
       "52"
      ]
     },
     "execution_count": 8,
     "metadata": {},
     "output_type": "execute_result"
    }
   ],
   "source": [
    "(arr>0).sum() #正值的数量"
   ]
  },
  {
   "cell_type": "markdown",
   "id": "4a1dd298",
   "metadata": {},
   "source": [
    "另外还有两个方法，any和all，它们对于布尔型数组非常有用。any用于测试数组中是否存在一个或多个True，而all则检查数组中所有值是否都是True"
   ]
  },
  {
   "cell_type": "code",
   "execution_count": 12,
   "id": "d18a4267",
   "metadata": {},
   "outputs": [],
   "source": [
    "bools = np.array([False,False,True,False])"
   ]
  },
  {
   "cell_type": "code",
   "execution_count": 13,
   "id": "3b148101",
   "metadata": {},
   "outputs": [
    {
     "data": {
      "text/plain": [
       "True"
      ]
     },
     "execution_count": 13,
     "metadata": {},
     "output_type": "execute_result"
    }
   ],
   "source": [
    "bools.any()"
   ]
  },
  {
   "cell_type": "code",
   "execution_count": 16,
   "id": "a2df16a2",
   "metadata": {},
   "outputs": [
    {
     "data": {
      "text/plain": [
       "False"
      ]
     },
     "execution_count": 16,
     "metadata": {},
     "output_type": "execute_result"
    }
   ],
   "source": [
    "bools.all()"
   ]
  },
  {
   "cell_type": "markdown",
   "id": "fdb505e4",
   "metadata": {},
   "source": [
    "---"
   ]
  },
  {
   "cell_type": "markdown",
   "id": "6b4488c0",
   "metadata": {},
   "source": [
    "### 排序"
   ]
  },
  {
   "cell_type": "markdown",
   "id": "c32bca81",
   "metadata": {},
   "source": [
    "跟Python内置的列表类型一样，NumPy数组也可以通过sort方法就地进行排序"
   ]
  },
  {
   "cell_type": "code",
   "execution_count": 17,
   "id": "7be4de17",
   "metadata": {},
   "outputs": [],
   "source": [
    "arr= np.random.randn(8)"
   ]
  },
  {
   "cell_type": "code",
   "execution_count": 18,
   "id": "56bcb382",
   "metadata": {},
   "outputs": [
    {
     "data": {
      "text/plain": [
       "array([-0.88695403, -0.35840818,  0.24593623, -1.50471937,  2.10300811,\n",
       "       -0.90697732, -0.28878469,  1.24306248])"
      ]
     },
     "execution_count": 18,
     "metadata": {},
     "output_type": "execute_result"
    }
   ],
   "source": [
    "arr"
   ]
  },
  {
   "cell_type": "code",
   "execution_count": 21,
   "id": "2c28156d",
   "metadata": {},
   "outputs": [],
   "source": [
    "arr.sort()"
   ]
  },
  {
   "cell_type": "code",
   "execution_count": 22,
   "id": "c644f691",
   "metadata": {},
   "outputs": [
    {
     "data": {
      "text/plain": [
       "array([-1.50471937, -0.90697732, -0.88695403, -0.35840818, -0.28878469,\n",
       "        0.24593623,  1.24306248,  2.10300811])"
      ]
     },
     "execution_count": 22,
     "metadata": {},
     "output_type": "execute_result"
    }
   ],
   "source": [
    "arr"
   ]
  },
  {
   "cell_type": "code",
   "execution_count": 24,
   "id": "194d208e",
   "metadata": {},
   "outputs": [],
   "source": [
    "arr=np.random.randn(5,3)"
   ]
  },
  {
   "cell_type": "code",
   "execution_count": 25,
   "id": "5b64ebcc",
   "metadata": {},
   "outputs": [
    {
     "data": {
      "text/plain": [
       "array([[-0.1693255 , -0.88807819,  0.5481332 ],\n",
       "       [-0.12941324,  1.08783463, -1.04207807],\n",
       "       [-0.14642022,  0.55195504,  0.59383968],\n",
       "       [-0.0033072 ,  1.36649721, -0.10125711],\n",
       "       [-0.60291076,  1.02496294, -0.93494894]])"
      ]
     },
     "execution_count": 25,
     "metadata": {},
     "output_type": "execute_result"
    }
   ],
   "source": [
    "arr"
   ]
  },
  {
   "cell_type": "code",
   "execution_count": 26,
   "id": "159ef70b",
   "metadata": {},
   "outputs": [],
   "source": [
    "arr.sort(1)"
   ]
  },
  {
   "cell_type": "code",
   "execution_count": 27,
   "id": "c5df3a90",
   "metadata": {},
   "outputs": [
    {
     "data": {
      "text/plain": [
       "array([[-0.88807819, -0.1693255 ,  0.5481332 ],\n",
       "       [-1.04207807, -0.12941324,  1.08783463],\n",
       "       [-0.14642022,  0.55195504,  0.59383968],\n",
       "       [-0.10125711, -0.0033072 ,  1.36649721],\n",
       "       [-0.93494894, -0.60291076,  1.02496294]])"
      ]
     },
     "execution_count": 27,
     "metadata": {},
     "output_type": "execute_result"
    }
   ],
   "source": [
    "arr"
   ]
  },
  {
   "cell_type": "code",
   "execution_count": 28,
   "id": "675e6afe",
   "metadata": {},
   "outputs": [],
   "source": [
    "arr.sort(0)"
   ]
  },
  {
   "cell_type": "code",
   "execution_count": 29,
   "id": "35ad6001",
   "metadata": {},
   "outputs": [
    {
     "data": {
      "text/plain": [
       "array([[-1.04207807, -0.60291076,  0.5481332 ],\n",
       "       [-0.93494894, -0.1693255 ,  0.59383968],\n",
       "       [-0.88807819, -0.12941324,  1.02496294],\n",
       "       [-0.14642022, -0.0033072 ,  1.08783463],\n",
       "       [-0.10125711,  0.55195504,  1.36649721]])"
      ]
     },
     "execution_count": 29,
     "metadata": {},
     "output_type": "execute_result"
    }
   ],
   "source": [
    "arr"
   ]
  },
  {
   "cell_type": "markdown",
   "id": "e1412f7a",
   "metadata": {},
   "source": [
    "顶级方法np.sort返回的是数组的已排序副本，而就地排序则会修改数组本身。计算数组分位数最简单的方法就是对其进行排序，然后选取特定位置的值："
   ]
  },
  {
   "cell_type": "code",
   "execution_count": 32,
   "id": "7feff0db",
   "metadata": {},
   "outputs": [],
   "source": [
    "large_arr =np.random.randn(1000)"
   ]
  },
  {
   "cell_type": "code",
   "execution_count": 33,
   "id": "21c23488",
   "metadata": {},
   "outputs": [],
   "source": [
    "large_arr.sort()"
   ]
  },
  {
   "cell_type": "code",
   "execution_count": 35,
   "id": "c737c05f",
   "metadata": {},
   "outputs": [
    {
     "data": {
      "text/plain": [
       "-1.731040785120619"
      ]
     },
     "execution_count": 35,
     "metadata": {},
     "output_type": "execute_result"
    }
   ],
   "source": [
    "large_arr[int(0.05*len(large_arr))] #5%的分位数"
   ]
  },
  {
   "cell_type": "markdown",
   "id": "cd3a89b1",
   "metadata": {},
   "source": [
    "---"
   ]
  },
  {
   "cell_type": "markdown",
   "id": "ec1bb1ab",
   "metadata": {},
   "source": [
    "### 唯一化以及其他的集合逻辑"
   ]
  },
  {
   "cell_type": "markdown",
   "id": "1bb7d0cb",
   "metadata": {},
   "source": [
    "NumPy提供了一些针对一维ndarray的基本集合运算。最常用的可能就要数np.unique了，它用于找出数组中的唯一值并返回已排序的结果。"
   ]
  },
  {
   "cell_type": "code",
   "execution_count": 38,
   "id": "9ae11157",
   "metadata": {},
   "outputs": [],
   "source": [
    "names = np.array(['Bob','Joe','Will','Bob','Joe','Will','Joe'])"
   ]
  },
  {
   "cell_type": "code",
   "execution_count": 39,
   "id": "99e444eb",
   "metadata": {},
   "outputs": [
    {
     "data": {
      "text/plain": [
       "array(['Bob', 'Joe', 'Will'], dtype='<U4')"
      ]
     },
     "execution_count": 39,
     "metadata": {},
     "output_type": "execute_result"
    }
   ],
   "source": [
    "np.unique(names)"
   ]
  },
  {
   "cell_type": "code",
   "execution_count": 40,
   "id": "1e30fbe6",
   "metadata": {},
   "outputs": [],
   "source": [
    "ints = np.array([3,3,3,2,2,1,1,4,4])"
   ]
  },
  {
   "cell_type": "code",
   "execution_count": 43,
   "id": "ed53c942",
   "metadata": {},
   "outputs": [
    {
     "data": {
      "text/plain": [
       "array([1, 2, 3, 4])"
      ]
     },
     "execution_count": 43,
     "metadata": {},
     "output_type": "execute_result"
    }
   ],
   "source": [
    "np.unique(ints)"
   ]
  },
  {
   "cell_type": "markdown",
   "id": "0222585b",
   "metadata": {},
   "source": [
    "python纯代码如下："
   ]
  },
  {
   "cell_type": "code",
   "execution_count": 44,
   "id": "2fb59c2b",
   "metadata": {},
   "outputs": [
    {
     "data": {
      "text/plain": [
       "['Bob', 'Joe', 'Will']"
      ]
     },
     "execution_count": 44,
     "metadata": {},
     "output_type": "execute_result"
    }
   ],
   "source": [
    "sorted(set(names))"
   ]
  },
  {
   "cell_type": "markdown",
   "id": "1567f3c3",
   "metadata": {},
   "source": [
    "另外一个函数np.in1d用于测试一个数组中的值在另一个数组中的成员资格，返回一个布尔型数组："
   ]
  },
  {
   "cell_type": "code",
   "execution_count": 45,
   "id": "b2dd62a7",
   "metadata": {},
   "outputs": [],
   "source": [
    "values = np.array([6,0,0,3,2,5,6])"
   ]
  },
  {
   "cell_type": "code",
   "execution_count": 46,
   "id": "c8414ecc",
   "metadata": {},
   "outputs": [
    {
     "data": {
      "text/plain": [
       "array([ True, False, False,  True,  True, False,  True])"
      ]
     },
     "execution_count": 46,
     "metadata": {},
     "output_type": "execute_result"
    }
   ],
   "source": [
    "np.in1d(values,[2,3,6])"
   ]
  },
  {
   "cell_type": "markdown",
   "id": "99675392",
   "metadata": {},
   "source": [
    "intersect1d(x.y)   |||计算x与y中的公共元素，并返回有序结果"
   ]
  },
  {
   "cell_type": "markdown",
   "id": "9a3e8035",
   "metadata": {},
   "source": [
    "union1d(x,y)  |||计算x与y 的并集，并返回由序结果"
   ]
  },
  {
   "cell_type": "markdown",
   "id": "7852dfe2",
   "metadata": {},
   "source": [
    "setdiff1d(x,y)|||集合的差，即元素在x中且不在y中"
   ]
  },
  {
   "cell_type": "markdown",
   "id": "d9e6fca7",
   "metadata": {},
   "source": [
    "setxor1d(x,y)|||集合的对称差，即存在于一个数组中但不同时存在于两个数组中的元素。"
   ]
  },
  {
   "cell_type": "markdown",
   "id": "e7925e02",
   "metadata": {},
   "source": [
    "----"
   ]
  },
  {
   "cell_type": "markdown",
   "id": "356c2cb3",
   "metadata": {},
   "source": [
    "### 用于数组的文件输入输出"
   ]
  },
  {
   "cell_type": "markdown",
   "id": "1fed1222",
   "metadata": {},
   "source": [
    "#### 将数组以二进制格式保存到磁盘中"
   ]
  },
  {
   "cell_type": "markdown",
   "id": "a83ee936",
   "metadata": {},
   "source": [
    "np.save 和np.load是读写磁盘数据组数据的两个主要函数。默认情况下，数组是以未压缩的原始二进制格式保存在扩展名为.npy的文件中的。"
   ]
  },
  {
   "cell_type": "code",
   "execution_count": 49,
   "id": "fe3f6c89",
   "metadata": {},
   "outputs": [],
   "source": [
    "arr =np.arange(10)"
   ]
  },
  {
   "cell_type": "code",
   "execution_count": 53,
   "id": "aaa87e11",
   "metadata": {},
   "outputs": [],
   "source": [
    "np.save('some_array',arr)"
   ]
  },
  {
   "cell_type": "code",
   "execution_count": 54,
   "id": "c9c2828e",
   "metadata": {},
   "outputs": [
    {
     "data": {
      "text/plain": [
       "array([0, 1, 2, 3, 4, 5, 6, 7, 8, 9])"
      ]
     },
     "execution_count": 54,
     "metadata": {},
     "output_type": "execute_result"
    }
   ],
   "source": [
    "np.load('some_array.npy')"
   ]
  },
  {
   "cell_type": "markdown",
   "id": "88221944",
   "metadata": {},
   "source": [
    "可以通过np.savez将多个数组保存在一个压缩文件中，并将数组以关键字参数的形式传入即可:"
   ]
  },
  {
   "cell_type": "code",
   "execution_count": 63,
   "id": "0b6f9c0a",
   "metadata": {},
   "outputs": [],
   "source": [
    "np.savez('arr_achive.npz.npz',a=arr,b=arr)"
   ]
  },
  {
   "cell_type": "code",
   "execution_count": 64,
   "id": "ab0e88c2",
   "metadata": {},
   "outputs": [],
   "source": [
    "arch = np.load('arr_achive.npz.npz')"
   ]
  },
  {
   "cell_type": "code",
   "execution_count": 66,
   "id": "effc6597",
   "metadata": {},
   "outputs": [
    {
     "data": {
      "text/plain": [
       "array([0, 1, 2, 3, 4, 5, 6, 7, 8, 9])"
      ]
     },
     "execution_count": 66,
     "metadata": {},
     "output_type": "execute_result"
    }
   ],
   "source": [
    "arch['b']"
   ]
  },
  {
   "cell_type": "markdown",
   "id": "c18de9b3",
   "metadata": {},
   "source": [
    "-----"
   ]
  },
  {
   "cell_type": "markdown",
   "id": "6b4a57f1",
   "metadata": {},
   "source": [
    "### 获取文本文件"
   ]
  },
  {
   "cell_type": "markdown",
   "id": "00fd63a1",
   "metadata": {},
   "source": [
    "从文件中加载文本是一个非常标准的任务。Python中的文件读写函数的格式容易将新手搞晕，所以主要介绍pandas中的read_csv和read_table函数。有时，我们需要用np.loadtxt或更为专门化的np.genfromtxt将数据加载到Numpy数组中。"
   ]
  },
  {
   "cell_type": "markdown",
   "id": "80b47255",
   "metadata": {},
   "source": [
    "以一个简单的逗号分割文件（CSV）为例："
   ]
  },
  {
   "cell_type": "code",
   "execution_count": 70,
   "id": "19878a22",
   "metadata": {},
   "outputs": [
    {
     "name": "stdout",
     "output_type": "stream",
     "text": [
      "0.580052,0.186730,1.040717,1.134411\n",
      "0.194163,-0.636917,-0.938659,0.124094\n",
      "-0.126410,0.268607,-0.695724,0.047428\n",
      "-1.484413,0.004176,-0.744203,0.005487\n",
      "2.302869,0.200131,1.670238,-1.881090\n",
      "-0.193230,1.047233,0.482803,0.960334\n"
     ]
    }
   ],
   "source": [
    "!type array_ex.txt"
   ]
  },
  {
   "cell_type": "code",
   "execution_count": 71,
   "id": "8fbbc06f",
   "metadata": {},
   "outputs": [],
   "source": [
    "arr = np.loadtxt('array_ex.txt',delimiter = ',')"
   ]
  },
  {
   "cell_type": "code",
   "execution_count": 72,
   "id": "f3474589",
   "metadata": {},
   "outputs": [
    {
     "data": {
      "text/plain": [
       "array([[ 0.580052,  0.18673 ,  1.040717,  1.134411],\n",
       "       [ 0.194163, -0.636917, -0.938659,  0.124094],\n",
       "       [-0.12641 ,  0.268607, -0.695724,  0.047428],\n",
       "       [-1.484413,  0.004176, -0.744203,  0.005487],\n",
       "       [ 2.302869,  0.200131,  1.670238, -1.88109 ],\n",
       "       [-0.19323 ,  1.047233,  0.482803,  0.960334]])"
      ]
     },
     "execution_count": 72,
     "metadata": {},
     "output_type": "execute_result"
    }
   ],
   "source": [
    "arr"
   ]
  },
  {
   "cell_type": "markdown",
   "id": "9e3c8215",
   "metadata": {},
   "source": [
    "np.savetxt执行的是相反的操作，存储。genfromtxt于loadtxt差不多，只不过它面向的是结构化数组和缺失数据处理。"
   ]
  },
  {
   "cell_type": "markdown",
   "id": "e77618b4",
   "metadata": {},
   "source": [
    "-----"
   ]
  },
  {
   "cell_type": "markdown",
   "id": "b2be8713",
   "metadata": {},
   "source": [
    "### 线性代数"
   ]
  },
  {
   "cell_type": "markdown",
   "id": "cb409771",
   "metadata": {},
   "source": [
    "线性代数（如矩阵乘法，矩阵分解、行列式以及其他方阵数学等）是任何数组库的重要组成部分。numpy提供了一个用于矩阵乘法的dot函数（既是一个数组方法也是numpy命名空间中的一个函数）："
   ]
  },
  {
   "cell_type": "code",
   "execution_count": 74,
   "id": "756c3ec8",
   "metadata": {},
   "outputs": [],
   "source": [
    "x = np.array([[1.,2.,3.],[4.,5.,6.]])"
   ]
  },
  {
   "cell_type": "code",
   "execution_count": 75,
   "id": "d6a8bef7",
   "metadata": {},
   "outputs": [],
   "source": [
    "y = np.array([[6.,23.],[-1.,7,],[8,9]])"
   ]
  },
  {
   "cell_type": "code",
   "execution_count": 76,
   "id": "944e20dc",
   "metadata": {},
   "outputs": [
    {
     "data": {
      "text/plain": [
       "array([[1., 2., 3.],\n",
       "       [4., 5., 6.]])"
      ]
     },
     "execution_count": 76,
     "metadata": {},
     "output_type": "execute_result"
    }
   ],
   "source": [
    "x"
   ]
  },
  {
   "cell_type": "code",
   "execution_count": 77,
   "id": "616e8dd6",
   "metadata": {},
   "outputs": [
    {
     "data": {
      "text/plain": [
       "array([[ 6., 23.],\n",
       "       [-1.,  7.],\n",
       "       [ 8.,  9.]])"
      ]
     },
     "execution_count": 77,
     "metadata": {},
     "output_type": "execute_result"
    }
   ],
   "source": [
    "y"
   ]
  },
  {
   "cell_type": "code",
   "execution_count": 78,
   "id": "95edd93d",
   "metadata": {},
   "outputs": [
    {
     "data": {
      "text/plain": [
       "array([[ 28.,  64.],\n",
       "       [ 67., 181.]])"
      ]
     },
     "execution_count": 78,
     "metadata": {},
     "output_type": "execute_result"
    }
   ],
   "source": [
    "x.dot(y) #相当于np.dot(x,y)"
   ]
  },
  {
   "cell_type": "markdown",
   "id": "5cdbb8c5",
   "metadata": {},
   "source": [
    "一个二维数组与一个大小合适的一维数组的矩阵点积运算之后会得到一个一维数组："
   ]
  },
  {
   "cell_type": "code",
   "execution_count": 79,
   "id": "a0f0487d",
   "metadata": {},
   "outputs": [
    {
     "data": {
      "text/plain": [
       "array([ 6., 15.])"
      ]
     },
     "execution_count": 79,
     "metadata": {},
     "output_type": "execute_result"
    }
   ],
   "source": [
    "np.dot(x,np.ones(3))"
   ]
  },
  {
   "cell_type": "markdown",
   "id": "6381a807",
   "metadata": {},
   "source": [
    "numpy.linalg中有一组标准的矩阵分解运算以及诸如求逆和行列式之类的东西。"
   ]
  },
  {
   "cell_type": "code",
   "execution_count": 80,
   "id": "a1226a47",
   "metadata": {},
   "outputs": [],
   "source": [
    "from numpy.linalg import inv,qr"
   ]
  },
  {
   "cell_type": "code",
   "execution_count": 97,
   "id": "7810ba58",
   "metadata": {},
   "outputs": [],
   "source": [
    "X = np.random.randn(5,5)"
   ]
  },
  {
   "cell_type": "code",
   "execution_count": 98,
   "id": "299c8975",
   "metadata": {},
   "outputs": [],
   "source": [
    "mat = X.T.dot(X)"
   ]
  },
  {
   "cell_type": "code",
   "execution_count": 99,
   "id": "5beb3fa8",
   "metadata": {},
   "outputs": [
    {
     "data": {
      "text/plain": [
       "array([[ 0.3759956 ,  0.38346442,  0.5422929 , -1.04330562,  0.53038198],\n",
       "       [ 0.10379536,  0.41964772, -0.80389881, -0.08710882, -0.08185409],\n",
       "       [ 0.52911264, -1.1565617 , -0.41858211,  0.13738341, -1.85634428],\n",
       "       [ 0.84502936, -1.2663904 , -1.06721468, -2.13620412,  0.18812777],\n",
       "       [-0.56800689,  0.22509886, -0.06824667, -0.50247078,  0.47539007]])"
      ]
     },
     "execution_count": 99,
     "metadata": {},
     "output_type": "execute_result"
    }
   ],
   "source": [
    "X"
   ]
  },
  {
   "cell_type": "code",
   "execution_count": 100,
   "id": "8032e1cd",
   "metadata": {},
   "outputs": [
    {
     "data": {
      "text/plain": [
       "array([[ 1.46881279, -1.62220776, -0.96408147, -1.84837684, -0.90234136],\n",
       "       [-1.62220776,  3.31519828,  1.69085996,  1.99664481,  2.18477599],\n",
       "       [-0.96408147,  1.69085996,  2.25915066,  1.76082357,  0.89724079],\n",
       "       [-1.84837684,  1.99664481,  1.76082357,  5.9307937 , -1.44200013],\n",
       "       [-0.90234136,  2.18477599,  0.89724079, -1.44200013,  3.99540699]])"
      ]
     },
     "execution_count": 100,
     "metadata": {},
     "output_type": "execute_result"
    }
   ],
   "source": [
    "mat"
   ]
  },
  {
   "cell_type": "code",
   "execution_count": 101,
   "id": "2a94a0d9",
   "metadata": {},
   "outputs": [
    {
     "data": {
      "text/plain": [
       "array([[ 2.5883441 ,  0.06663273, -0.16404413,  1.06898124,  0.97077732],\n",
       "       [ 0.06663273,  1.48564957, -0.15455925, -0.67846013, -1.00749405],\n",
       "       [-0.16404413, -0.15455925,  0.82280374, -0.30338585, -0.24680388],\n",
       "       [ 1.06898124, -0.67846013, -0.30338585,  1.08053688,  1.07053271],\n",
       "       [ 0.97077732, -1.00749405, -0.24680388,  1.07053271,  1.46224706]])"
      ]
     },
     "execution_count": 101,
     "metadata": {},
     "output_type": "execute_result"
    }
   ],
   "source": [
    "inv(mat)"
   ]
  },
  {
   "cell_type": "code",
   "execution_count": 106,
   "id": "7a4f43ef",
   "metadata": {},
   "outputs": [],
   "source": [
    "a=mat.dot(inv(mat))"
   ]
  },
  {
   "cell_type": "code",
   "execution_count": 103,
   "id": "4307e1f7",
   "metadata": {},
   "outputs": [],
   "source": [
    "q,r =qr(mat)"
   ]
  },
  {
   "cell_type": "code",
   "execution_count": 104,
   "id": "2f2dee76",
   "metadata": {},
   "outputs": [
    {
     "data": {
      "text/plain": [
       "array([[-3.15422558,  4.7722498 ,  3.29756682,  5.48871175,  2.11602039],\n",
       "       [ 0.        , -1.57053285, -0.46390663,  3.1245648 , -3.80481603],\n",
       "       [ 0.        ,  0.        , -1.30713678, -1.25110922,  0.84610943],\n",
       "       [ 0.        ,  0.        ,  0.        , -2.51060336,  2.13927378],\n",
       "       [ 0.        ,  0.        ,  0.        ,  0.        ,  0.43426689]])"
      ]
     },
     "execution_count": 104,
     "metadata": {},
     "output_type": "execute_result"
    }
   ],
   "source": [
    "r"
   ]
  },
  {
   "cell_type": "markdown",
   "id": "cc64a653",
   "metadata": {},
   "source": [
    "----"
   ]
  },
  {
   "cell_type": "markdown",
   "id": "d0d333e7",
   "metadata": {},
   "source": [
    "### 随机数生成"
   ]
  },
  {
   "cell_type": "markdown",
   "id": "d66acbbd",
   "metadata": {},
   "source": [
    "numpy.random模块对python内置的random进行了补充，增加了一些用于搞笑生成多种概率分布的样本值的函数，比如我们可以用normal来得到一个标准正态分布的数组："
   ]
  },
  {
   "cell_type": "code",
   "execution_count": 110,
   "id": "1db068e1",
   "metadata": {},
   "outputs": [],
   "source": [
    "samples = np.random.normal(size=(4,4))"
   ]
  },
  {
   "cell_type": "code",
   "execution_count": 111,
   "id": "a52b3a96",
   "metadata": {},
   "outputs": [
    {
     "data": {
      "text/plain": [
       "array([[-0.7536623 ,  1.71178349, -1.17329479, -1.07338758],\n",
       "       [ 0.86313026,  0.46843282, -1.10480852, -0.17064227],\n",
       "       [ 0.71352454, -1.16407337,  1.85349648, -0.18254836],\n",
       "       [ 1.23718343, -0.39479053, -0.88942999,  0.33951195]])"
      ]
     },
     "execution_count": 111,
     "metadata": {},
     "output_type": "execute_result"
    }
   ],
   "source": [
    "samples"
   ]
  },
  {
   "cell_type": "markdown",
   "id": "f08ad165",
   "metadata": {},
   "source": [
    "#### 范例：随机漫步"
   ]
  },
  {
   "cell_type": "code",
   "execution_count": 6,
   "id": "8b93f489",
   "metadata": {},
   "outputs": [],
   "source": [
    "import random\n",
    "import matplotlib.pyplot as plt"
   ]
  },
  {
   "cell_type": "code",
   "execution_count": 130,
   "id": "bf271a37",
   "metadata": {},
   "outputs": [],
   "source": [
    "position = 0"
   ]
  },
  {
   "cell_type": "code",
   "execution_count": 131,
   "id": "3a112db0",
   "metadata": {},
   "outputs": [],
   "source": [
    "walk = [position]"
   ]
  },
  {
   "cell_type": "code",
   "execution_count": 132,
   "id": "31df7dc4",
   "metadata": {},
   "outputs": [],
   "source": [
    "steps=1000"
   ]
  },
  {
   "cell_type": "code",
   "execution_count": 139,
   "id": "f723b8ed",
   "metadata": {},
   "outputs": [],
   "source": [
    "for i in np.arange(steps):\n",
    "    step =1 if random.randint(0,1) else -1\n",
    "    position += step\n",
    "    walk.append(position)"
   ]
  },
  {
   "cell_type": "code",
   "execution_count": 32,
   "id": "04234497",
   "metadata": {},
   "outputs": [],
   "source": [
    "nsteps = 1000"
   ]
  },
  {
   "cell_type": "code",
   "execution_count": 33,
   "id": "872cdb45",
   "metadata": {},
   "outputs": [],
   "source": [
    "draws = np.random.randint(0,2,size=nsteps)"
   ]
  },
  {
   "cell_type": "code",
   "execution_count": 39,
   "id": "12f566c9",
   "metadata": {},
   "outputs": [],
   "source": [
    "steps = np.where(draws>0,1,-1)"
   ]
  },
  {
   "cell_type": "code",
   "execution_count": 36,
   "id": "b3cb4216",
   "metadata": {},
   "outputs": [],
   "source": [
    "walk = steps.cumsum()"
   ]
  },
  {
   "cell_type": "code",
   "execution_count": 37,
   "id": "685d6dd2",
   "metadata": {},
   "outputs": [
    {
     "data": {
      "text/plain": [
       "-21"
      ]
     },
     "execution_count": 37,
     "metadata": {},
     "output_type": "execute_result"
    }
   ],
   "source": [
    "walk.min()"
   ]
  },
  {
   "cell_type": "code",
   "execution_count": 38,
   "id": "0a868b76",
   "metadata": {},
   "outputs": [
    {
     "data": {
      "text/plain": [
       "38"
      ]
     },
     "execution_count": 38,
     "metadata": {},
     "output_type": "execute_result"
    }
   ],
   "source": [
    "walk.max()"
   ]
  },
  {
   "cell_type": "code",
   "execution_count": 27,
   "id": "5896a51d",
   "metadata": {},
   "outputs": [
    {
     "data": {
      "text/plain": [
       "array([ -1,   0,  -1,  -2,  -3,  -2,  -3,  -2,  -1,  -2,  -1,   0,  -1,\n",
       "        -2,  -1,   0,   1,   2,   1,   0,  -1,  -2,  -3,  -4,  -3,  -2,\n",
       "        -3,  -4,  -3,  -4,  -3,  -2,  -3,  -2,  -1,   0,  -1,   0,   1,\n",
       "         0,   1,   2,   1,   2,   3,   2,   3,   2,   3,   2,   1,   2,\n",
       "         1,   0,  -1,  -2,  -1,   0,  -1,  -2,  -3,  -2,  -1,  -2,  -1,\n",
       "        -2,  -1,  -2,  -3,  -2,  -1,  -2,  -3,  -4,  -3,  -2,  -3,  -4,\n",
       "        -5,  -6,  -5,  -6,  -7,  -6,  -5,  -4,  -3,  -2,  -1,   0,   1,\n",
       "         2,   1,   2,   1,   2,   1,   0,  -1,  -2,  -3,  -2,  -3,  -2,\n",
       "        -3,  -2,  -3,  -2,  -3,  -2,  -1,  -2,  -3,  -4,  -5,  -4,  -5,\n",
       "        -4,  -3,  -2,  -1,  -2,  -3,  -2,  -3,  -2,  -1,   0,  -1,  -2,\n",
       "        -1,   0,   1,   2,   1,   0,   1,   2,   3,   4,   3,   4,   3,\n",
       "         4,   5,   6,   5,   6,   5,   6,   7,   6,   5,   6,   7,   8,\n",
       "         7,   6,   7,   6,   7,   8,   7,   8,   7,   8,   7,   8,   9,\n",
       "         8,   9,   8,   7,   6,   7,   8,   9,  10,   9,  10,   9,   8,\n",
       "         7,   6,   5,   4,   5,   6,   5,   4,   3,   4,   3,   2,   1,\n",
       "         2,   3,   4,   3,   4,   3,   4,   5,   4,   5,   4,   5,   4,\n",
       "         5,   4,   3,   4,   3,   2,   1,   0,  -1,   0,   1,   0,  -1,\n",
       "         0,   1,   0,  -1,   0,  -1,   0,  -1,  -2,  -1,   0,   1,   0,\n",
       "        -1,  -2,  -1,  -2,  -1,  -2,  -3,  -4,  -3,  -2,  -3,  -4,  -5,\n",
       "        -6,  -5,  -6,  -5,  -4,  -3,  -2,  -3,  -4,  -5,  -4,  -3,  -2,\n",
       "        -3,  -4,  -3,  -2,  -1,   0,   1,   2,   3,   2,   3,   2,   1,\n",
       "         0,   1,   0,   1,   0,   1,   2,   1,   2,   3,   2,   1,   0,\n",
       "        -1,   0,   1,   2,   3,   4,   5,   6,   7,   8,   9,  10,  11,\n",
       "        12,  11,  12,  13,  12,  11,  12,  11,  10,   9,   8,   7,   8,\n",
       "         9,  10,   9,   8,   9,   8,   7,   8,   7,   8,   7,   8,   9,\n",
       "         8,   9,  10,   9,   8,   7,   8,   9,  10,  11,  10,   9,  10,\n",
       "        11,  10,  11,  12,  11,  10,  11,  10,   9,  10,   9,  10,  11,\n",
       "        10,  11,  12,  11,  12,  11,  12,  11,  10,  11,  12,  11,  12,\n",
       "        13,  14,  15,  16,  17,  18,  17,  16,  15,  16,  15,  16,  17,\n",
       "        16,  17,  18,  19,  20,  19,  20,  21,  20,  21,  22,  21,  20,\n",
       "        19,  20,  19,  20,  19,  20,  21,  22,  21,  22,  23,  22,  21,\n",
       "        20,  19,  20,  19,  18,  19,  18,  17,  18,  17,  16,  17,  18,\n",
       "        19,  18,  17,  18,  17,  16,  17,  16,  17,  16,  15,  14,  15,\n",
       "        16,  15,  14,  15,  16,  17,  16,  17,  18,  19,  20,  21,  20,\n",
       "        19,  18,  17,  16,  17,  18,  17,  16,  17,  18,  17,  18,  17,\n",
       "        16,  17,  18,  17,  18,  17,  16,  15,  14,  13,  12,  13,  14,\n",
       "        13,  12,  13,  12,  11,  10,  11,  12,  13,  12,  13,  12,  13,\n",
       "        12,  11,  12,  13,  12,  11,  10,   9,   8,   9,  10,  11,  12,\n",
       "        11,  10,  11,  10,  11,  10,   9,  10,   9,   8,   7,   8,   9,\n",
       "        10,   9,  10,  11,  10,   9,   8,   9,  10,   9,  10,  11,  12,\n",
       "        11,  12,  11,  10,  11,  10,   9,  10,   9,  10,   9,  10,  11,\n",
       "        10,   9,  10,   9,   8,   7,   8,   9,   8,   9,   8,   7,   6,\n",
       "         5,   4,   5,   6,   5,   4,   5,   6,   7,   6,   7,   8,   7,\n",
       "         6,   5,   6,   5,   6,   5,   4,   3,   2,   3,   2,   1,   0,\n",
       "         1,   0,  -1,  -2,  -1,  -2,  -1,  -2,  -1,   0,  -1,   0,  -1,\n",
       "        -2,  -3,  -4,  -5,  -6,  -7,  -6,  -5,  -6,  -7,  -8,  -7,  -8,\n",
       "        -9,  -8,  -7,  -8,  -9,  -8,  -9,  -8,  -7,  -6,  -7,  -6,  -5,\n",
       "        -4,  -5,  -4,  -3,  -2,  -1,  -2,  -3,  -4,  -5,  -4,  -5,  -4,\n",
       "        -5,  -6,  -7,  -6,  -7,  -6,  -5,  -4,  -5,  -6,  -7,  -6,  -7,\n",
       "        -6,  -5,  -6,  -7,  -6,  -7,  -8,  -7,  -8,  -7,  -6,  -7,  -8,\n",
       "        -9, -10, -11, -10, -11, -10, -11, -12, -11, -12, -11, -10,  -9,\n",
       "        -8,  -7,  -8,  -9,  -8,  -9, -10,  -9, -10, -11, -12, -13, -14,\n",
       "       -15, -16, -17, -16, -17, -16, -15, -16, -15, -16, -15, -14, -15,\n",
       "       -14, -15, -14, -13, -14, -13, -14, -15, -16, -15, -16, -15, -16,\n",
       "       -15, -16, -15, -16, -17, -18, -19, -20, -21, -22, -21, -20, -21,\n",
       "       -22, -21, -20, -21, -20, -19, -18, -17, -18, -19, -20, -21, -20,\n",
       "       -19, -18, -19, -20, -21, -22, -21, -20, -21, -22, -23, -22, -21,\n",
       "       -22, -23, -24, -23, -24, -23, -22, -23, -22, -23, -24, -25, -24,\n",
       "       -25, -26, -25, -26, -27, -28, -29, -30, -31, -32, -33, -32, -31,\n",
       "       -30, -31, -30, -29, -30, -29, -30, -31, -30, -29, -28, -27, -28,\n",
       "       -29, -28, -27, -28, -29, -30, -31, -32, -31, -30, -29, -30, -31,\n",
       "       -32, -33, -34, -33, -34, -33, -32, -31, -30, -31, -30, -29, -28,\n",
       "       -29, -28, -29, -28, -27, -28, -27, -28, -27, -26, -27, -26, -27,\n",
       "       -28, -29, -28, -27, -26, -27, -26, -25, -26, -25, -24, -25, -26,\n",
       "       -27, -28, -29, -30, -31, -32, -31, -30, -29, -28, -29, -30, -29,\n",
       "       -28, -29, -28, -27, -26, -27, -28, -27, -26, -25, -26, -27, -26,\n",
       "       -25, -26, -27, -26, -27, -28, -29, -30, -31, -30, -31, -32, -33,\n",
       "       -32, -31, -30, -31, -32, -33, -34, -33, -34, -35, -34, -33, -32,\n",
       "       -33, -32, -33, -34, -35, -36, -37, -36, -37, -36, -37, -36, -37,\n",
       "       -36, -37, -36, -37, -38, -39, -38, -37, -36, -35, -34, -35, -34,\n",
       "       -35, -36, -37, -38, -39, -40, -41, -42, -43, -44, -43, -42, -41,\n",
       "       -42, -41, -40, -39, -38, -37, -38, -37, -38, -39, -40, -39, -40,\n",
       "       -39, -40, -41, -40, -41, -40, -41, -40, -41, -42, -43, -42, -43,\n",
       "       -44, -45, -44, -45, -46, -45, -44, -43, -42, -41, -42, -43, -44,\n",
       "       -45, -46, -45, -46, -47, -48, -47, -46, -45, -44, -45, -46, -45,\n",
       "       -46, -45, -44, -43, -44, -43, -44, -43, -42, -43, -44, -45, -46,\n",
       "       -47, -48, -49, -48, -47, -46, -47, -46, -47, -48, -49, -48],\n",
       "      dtype=int32)"
      ]
     },
     "execution_count": 27,
     "metadata": {},
     "output_type": "execute_result"
    }
   ],
   "source": [
    "walk"
   ]
  },
  {
   "cell_type": "code",
   "execution_count": 16,
   "id": "cd175f61",
   "metadata": {},
   "outputs": [
    {
     "data": {
      "text/plain": [
       "177"
      ]
     },
     "execution_count": 16,
     "metadata": {},
     "output_type": "execute_result"
    }
   ],
   "source": [
    "(np.abs(walk) >=10).argmax()"
   ]
  },
  {
   "cell_type": "code",
   "execution_count": 17,
   "id": "7eaf72ee",
   "metadata": {},
   "outputs": [
    {
     "data": {
      "text/plain": [
       "2"
      ]
     },
     "execution_count": 17,
     "metadata": {},
     "output_type": "execute_result"
    }
   ],
   "source": [
    "walk[91]"
   ]
  },
  {
   "cell_type": "code",
   "execution_count": 26,
   "id": "bb37c7ba",
   "metadata": {},
   "outputs": [
    {
     "data": {
      "text/plain": [
       "array([   1,    2,    3,    4,    5,    6,    7,    8,    9,   10,   11,\n",
       "         12,   13,   14,   15,   16,   17,   18,   19,   20,   21,   22,\n",
       "         23,   24,   25,   26,   27,   28,   29,   30,   31,   32,   33,\n",
       "         34,   35,   36,   37,   38,   39,   40,   41,   42,   43,   44,\n",
       "         45,   46,   47,   48,   49,   50,   51,   52,   53,   54,   55,\n",
       "         56,   57,   58,   59,   60,   61,   62,   63,   64,   65,   66,\n",
       "         67,   68,   69,   70,   71,   72,   73,   74,   75,   76,   77,\n",
       "         78,   79,   80,   81,   82,   83,   84,   85,   86,   87,   88,\n",
       "         89,   90,   91,   92,   93,   94,   95,   96,   97,   98,   99,\n",
       "        100,  101,  102,  103,  104,  105,  106,  107,  108,  109,  110,\n",
       "        111,  112,  113,  114,  115,  116,  117,  118,  119,  120,  121,\n",
       "        122,  123,  124,  125,  126,  127,  128,  129,  130,  131,  132,\n",
       "        133,  134,  135,  136,  137,  138,  139,  140,  141,  142,  143,\n",
       "        144,  145,  146,  147,  148,  149,  150,  151,  152,  153,  154,\n",
       "        155,  156,  157,  158,  159,  160,  161,  162,  163,  164,  165,\n",
       "        166,  167,  168,  169,  170,  171,  172,  173,  174,  175,  176,\n",
       "        177,  178,  179,  180,  181,  182,  183,  184,  185,  186,  187,\n",
       "        188,  189,  190,  191,  192,  193,  194,  195,  196,  197,  198,\n",
       "        199,  200,  201,  202,  203,  204,  205,  206,  207,  208,  209,\n",
       "        210,  211,  212,  213,  214,  215,  216,  217,  218,  219,  220,\n",
       "        221,  222,  223,  224,  225,  226,  227,  228,  229,  230,  231,\n",
       "        232,  233,  234,  235,  236,  237,  238,  239,  240,  241,  242,\n",
       "        243,  244,  245,  246,  247,  248,  249,  250,  251,  252,  253,\n",
       "        254,  255,  256,  257,  258,  259,  260,  261,  262,  263,  264,\n",
       "        265,  266,  267,  268,  269,  270,  271,  272,  273,  274,  275,\n",
       "        276,  277,  278,  279,  280,  281,  282,  283,  284,  285,  286,\n",
       "        287,  288,  289,  290,  291,  292,  293,  294,  295,  296,  297,\n",
       "        298,  299,  300,  301,  302,  303,  304,  305,  306,  307,  308,\n",
       "        309,  310,  311,  312,  313,  314,  315,  316,  317,  318,  319,\n",
       "        320,  321,  322,  323,  324,  325,  326,  327,  328,  329,  330,\n",
       "        331,  332,  333,  334,  335,  336,  337,  338,  339,  340,  341,\n",
       "        342,  343,  344,  345,  346,  347,  348,  349,  350,  351,  352,\n",
       "        353,  354,  355,  356,  357,  358,  359,  360,  361,  362,  363,\n",
       "        364,  365,  366,  367,  368,  369,  370,  371,  372,  373,  374,\n",
       "        375,  376,  377,  378,  379,  380,  381,  382,  383,  384,  385,\n",
       "        386,  387,  388,  389,  390,  391,  392,  393,  394,  395,  396,\n",
       "        397,  398,  399,  400,  401,  402,  403,  404,  405,  406,  407,\n",
       "        408,  409,  410,  411,  412,  413,  414,  415,  416,  417,  418,\n",
       "        419,  420,  421,  422,  423,  424,  425,  426,  427,  428,  429,\n",
       "        430,  431,  432,  433,  434,  435,  436,  437,  438,  439,  440,\n",
       "        441,  442,  443,  444,  445,  446,  447,  448,  449,  450,  451,\n",
       "        452,  453,  454,  455,  456,  457,  458,  459,  460,  461,  462,\n",
       "        463,  464,  465,  466,  467,  468,  469,  470,  471,  472,  473,\n",
       "        474,  475,  476,  477,  478,  479,  480,  481,  482,  483,  484,\n",
       "        485,  486,  487,  488,  489,  490,  491,  492,  493,  494,  495,\n",
       "        496,  497,  498,  499,  500,  501,  502,  503,  504,  505,  506,\n",
       "        507,  508,  509,  510,  511,  512,  513,  514,  515,  516,  517,\n",
       "        518,  519,  520,  521,  522,  523,  524,  525,  526,  527,  528,\n",
       "        529,  530,  531,  532,  533,  534,  535,  536,  537,  538,  539,\n",
       "        540,  541,  542,  543,  544,  545,  546,  547,  548,  549,  550,\n",
       "        551,  552,  553,  554,  555,  556,  557,  558,  559,  560,  561,\n",
       "        562,  563,  564,  565,  566,  567,  568,  569,  570,  571,  572,\n",
       "        573,  574,  575,  576,  577,  578,  579,  580,  581,  582,  583,\n",
       "        584,  585,  586,  587,  588,  589,  590,  591,  592,  593,  594,\n",
       "        595,  596,  597,  598,  599,  600,  601,  602,  603,  604,  605,\n",
       "        606,  607,  608,  609,  610,  611,  612,  613,  614,  615,  616,\n",
       "        617,  618,  619,  620,  621,  622,  623,  624,  625,  626,  627,\n",
       "        628,  629,  630,  631,  632,  633,  634,  635,  636,  637,  638,\n",
       "        639,  640,  641,  642,  643,  644,  645,  646,  647,  648,  649,\n",
       "        650,  651,  652,  653,  654,  655,  656,  657,  658,  659,  660,\n",
       "        661,  662,  663,  664,  665,  666,  667,  668,  669,  670,  671,\n",
       "        672,  673,  674,  675,  676,  677,  678,  679,  680,  681,  682,\n",
       "        683,  684,  685,  686,  687,  688,  689,  690,  691,  692,  693,\n",
       "        694,  695,  696,  697,  698,  699,  700,  701,  702,  703,  704,\n",
       "        705,  706,  707,  708,  709,  710,  711,  712,  713,  714,  715,\n",
       "        716,  717,  718,  719,  720,  721,  722,  723,  724,  725,  726,\n",
       "        727,  728,  729,  730,  731,  732,  733,  734,  735,  736,  737,\n",
       "        738,  739,  740,  741,  742,  743,  744,  745,  746,  747,  748,\n",
       "        749,  750,  751,  752,  753,  754,  755,  756,  757,  758,  759,\n",
       "        760,  761,  762,  763,  764,  765,  766,  767,  768,  769,  770,\n",
       "        771,  772,  773,  774,  775,  776,  777,  778,  779,  780,  781,\n",
       "        782,  783,  784,  785,  786,  787,  788,  789,  790,  791,  792,\n",
       "        793,  794,  795,  796,  797,  798,  799,  800,  801,  802,  803,\n",
       "        804,  805,  806,  807,  808,  809,  810,  811,  812,  813,  814,\n",
       "        815,  816,  817,  818,  819,  820,  821,  822,  823,  824,  825,\n",
       "        826,  827,  828,  829,  830,  831,  832,  833,  834,  835,  836,\n",
       "        837,  838,  839,  840,  841,  842,  843,  844,  845,  846,  847,\n",
       "        848,  849,  850,  851,  852,  853,  854,  855,  856,  857,  858,\n",
       "        859,  860,  861,  862,  863,  864,  865,  866,  867,  868,  869,\n",
       "        870,  871,  872,  873,  874,  875,  876,  877,  878,  879,  880,\n",
       "        881,  882,  883,  884,  885,  886,  887,  888,  889,  890,  891,\n",
       "        892,  893,  894,  895,  896,  897,  898,  899,  900,  901,  902,\n",
       "        903,  904,  905,  906,  907,  908,  909,  910,  911,  912,  913,\n",
       "        914,  915,  916,  917,  918,  919,  920,  921,  922,  923,  924,\n",
       "        925,  926,  927,  928,  929,  930,  931,  932,  933,  934,  935,\n",
       "        936,  937,  938,  939,  940,  941,  942,  943,  944,  945,  946,\n",
       "        947,  948,  949,  950,  951,  952,  953,  954,  955,  956,  957,\n",
       "        958,  959,  960,  961,  962,  963,  964,  965,  966,  967,  968,\n",
       "        969,  970,  971,  972,  973,  974,  975,  976,  977,  978,  979,\n",
       "        980,  981,  982,  983,  984,  985,  986,  987,  988,  989,  990,\n",
       "        991,  992,  993,  994,  995,  996,  997,  998,  999, 1000])"
      ]
     },
     "execution_count": 26,
     "metadata": {},
     "output_type": "execute_result"
    }
   ],
   "source": [
    "import numpy as np\n",
    "x=np.arange(1,1001)\n",
    "x"
   ]
  },
  {
   "cell_type": "code",
   "execution_count": 42,
   "id": "a8cfb75f",
   "metadata": {},
   "outputs": [
    {
     "data": {
      "text/plain": [
       "<matplotlib.collections.PathCollection at 0x210f3bcd850>"
      ]
     },
     "execution_count": 42,
     "metadata": {},
     "output_type": "execute_result"
    },
    {
     "data": {
      "image/png": "[encoded data removed]",
      "text/plain": [
       "<Figure size 1200x720 with 1 Axes>"
      ]
     },
     "metadata": {},
     "output_type": "display_data"
    }
   ],
   "source": [
    "import matplotlib.pyplot as plt\n",
    "fig, ax = plt.subplots(figsize=(15,9))\n",
    "plt.style.use('classic')\n",
    "point_numbers =range(1000)\n",
    "ax.scatter(x,walk,s=15,c=point_numbers,cmap=plt.cm.Blues,edgecolors='none')\n"
   ]
  },
  {
   "cell_type": "markdown",
   "id": "f256eb98",
   "metadata": {},
   "source": [
    "-------"
   ]
  },
  {
   "cell_type": "markdown",
   "id": "343e799c",
   "metadata": {},
   "source": [
    "##  随机漫步实例，使用matplotlib"
   ]
  },
  {
   "cell_type": "code",
   "execution_count": 170,
   "id": "289b434e",
   "metadata": {},
   "outputs": [],
   "source": [
    "from random import choice\n",
    "class RandomWalk:\n",
    "    def __init__(self,num_point= 5000):\n",
    "        self.num_point=num_point\n",
    "        \n",
    "        self.x_values=[0]\n",
    "        self.y_values=[0]\n",
    "        \n",
    "    def fill_walk(self):\n",
    "        while len(self.x_values)<self.num_point:\n",
    "            x_direction=choice([1,-1])\n",
    "            x_distance = choice([0,1,2,3,4])\n",
    "            x_step = x_distance*x_direction\n",
    "            \n",
    "            y_direction=choice([1,-1])\n",
    "            y_distance = choice([0,1,2,3,4])\n",
    "            y_step = y_distance*y_direction\n",
    "            \n",
    "            if x_step ==0 and y_step==0:\n",
    "                continue\n",
    "            \n",
    "            x=self.x_values[-1] + x_step\n",
    "            y=self.y_values[-1] + y_step\n",
    "            \n",
    "            self.x_values.append(x)\n",
    "            self.y_values.append(y)"
   ]
  },
  {
   "cell_type": "code",
   "execution_count": 171,
   "id": "a00bf96d",
   "metadata": {},
   "outputs": [],
   "source": [
    "import matplotlib.pyplot as plt"
   ]
  },
  {
   "cell_type": "code",
   "execution_count": 188,
   "id": "c8e4aaf7",
   "metadata": {},
   "outputs": [],
   "source": [
    "rw = RandomWalk(10090)\n",
    "rw.fill_walk()"
   ]
  },
  {
   "cell_type": "code",
   "execution_count": 186,
   "id": "cfa69006",
   "metadata": {},
   "outputs": [],
   "source": [
    "plt.style.use('classic')\n"
   ]
  },
  {
   "cell_type": "code",
   "execution_count": 190,
   "id": "ffa442d9",
   "metadata": {},
   "outputs": [
    {
     "data": {
      "text/plain": [
       "<function matplotlib.pyplot.show(close=None, block=None)>"
      ]
     },
     "execution_count": 190,
     "metadata": {},
     "output_type": "execute_result"
    },
    {
     "data": {
      "image/png": "[encoded data removed]",
      "text/plain": [
       "<Figure size 1200x720 with 1 Axes>"
      ]
     },
     "metadata": {},
     "output_type": "display_data"
    }
   ],
   "source": [
    "fig, ax = plt.subplots(figsize=(15,9))\n",
    "point_numbers =range(rw.num_point)\n",
    "ax.scatter(rw.x_values,rw.y_values,s=15,c=point_numbers,cmap=plt.cm.Blues,edgecolors='none')\n",
    "plt.show"
   ]
  },
  {
   "cell_type": "code",
   "execution_count": null,
   "id": "01335513",
   "metadata": {},
   "outputs": [],
   "source": []
  }
 ],
 "metadata": {
  "kernelspec": {
   "display_name": "Python 3",
   "language": "python",
   "name": "python3"
  },
  "language_info": {
   "codemirror_mode": {
    "name": "ipython",
    "version": 3
   },
   "file_extension": ".py",
   "mimetype": "text/x-python",
   "name": "python",
   "nbconvert_exporter": "python",
   "pygments_lexer": "ipython3",
   "version": "3.9.2"
  }
 },
 "nbformat": 4,
 "nbformat_minor": 5
}
